{
 "cells": [
  {
   "cell_type": "markdown",
   "metadata": {},
   "source": [
    "## <span style=\"color:green\">Salaries for various student positions made available by students @ DTU March 2018</span>\n",
    "\n",
    "From Facebook thread started by Simone Lykke Vestergaard 28/03/2018.\n",
    "\n",
    "This Notebook investigates the actual salaries of students from The Technical University of Denmark. The salary statistics from IDA are meant to be our \"value\" -- but what we actually earn will be showed in some basic plots below.\n",
    "If you are interested in the salary statistics from IDA, they are as follows (description in Danish only):\n",
    "<img src=\"salary_stats.jpg\" alt=\"salary stats\" style=\"width: 700px;\"/>\n",
    "\n",
    "Will be updated as more information is given.\n",
    "\n",
    "#### <span style=\"color:green\">FOR READERS</span>\n",
    "**Just checkout the plotting in the bottom -- here you also get the basic stats.**\n",
    "\n",
    "----\n",
    "\n",
    "### <span style=\"color:green\">Setup</span>\n",
    "* All salaries are disclosed by students and added in the `students` list \n",
    "* only those who explicitly have stated that their work is not relevant for their studies, will have a `0` in the `relevant` list.\n",
    "* companies are not added -- can be done upon request."
   ]
  },
  {
   "cell_type": "code",
   "execution_count": 22,
   "metadata": {
    "collapsed": true
   },
   "outputs": [],
   "source": [
    "import numpy as np\n",
    "import pandas as pd\n",
    "\n",
    "# Scientific libraries\n",
    "from numpy import arange,array,ones\n",
    "from scipy import stats\n",
    "from scipy.stats import mode\n",
    "\n",
    "# Plotting tools\n",
    "import plotly \n",
    "from IPython.display import Image \n",
    "import plotly.plotly as py\n",
    "import plotly.graph_objs as go\n",
    "\n",
    "# API access to Plotly plotting tools\n",
    "plotly.tools.set_credentials_file(username='frksteenhoff2', api_key ='duu8hsfRmuI5rF2EU8o5')\n",
    "\n",
    "import matplotlib.pyplot as plt\n",
    "from matplotlib import pylab\n",
    "%matplotlib inline"
   ]
  },
  {
   "cell_type": "code",
   "execution_count": 31,
   "metadata": {
    "collapsed": true
   },
   "outputs": [],
   "source": [
    "salaries = [150, 170, 149, 155, 185, 185, 206, 175, 155, 185, 145, 125, 156, 175, 235, 175, 130, 150]\n",
    "relevant = [1,   1,   1,   1,   1,   1,   1,   1,   0,   1,   1,   1,   1,   1,   1,   1,   1,   1]\n",
    "count_ = range(0,len(salaries))"
   ]
  },
  {
   "cell_type": "code",
   "execution_count": 16,
   "metadata": {
    "collapsed": true
   },
   "outputs": [],
   "source": [
    "# Plotting bar chart - no grouping\n",
    "def plotbar(bar, name, x_in, title, xaxis, yaxis, filename_, rgba='rgba(255,128,0,0.9)'):\n",
    "    trace = go.Bar(\n",
    "        x    = x_in,\n",
    "        y    = bar,\n",
    "        name = name,\n",
    "        marker = dict(\n",
    "            color = rgba,\n",
    "        )\n",
    "    )\n",
    " \n",
    "    data = [trace]\n",
    "    layout= go.Layout(\n",
    "        title=title,\n",
    "        xaxis=dict(\n",
    "            title=xaxis\n",
    "        ),\n",
    "        yaxis=dict(\n",
    "            title=yaxis\n",
    "        )\n",
    "    )\n",
    "\n",
    "    fig = go.Figure(data=data, layout=layout)\n",
    "    py.iplot(fig, sharing='public', filename=filename_)"
   ]
  },
  {
   "cell_type": "code",
   "execution_count": 32,
   "metadata": {
    "collapsed": false
   },
   "outputs": [],
   "source": [
    "plotbar(salaries, \"Student\", count_,\"Salaries for student worker positions\", \"Student\", \"Salary\", \"salaries.png\")"
   ]
  },
  {
   "cell_type": "markdown",
   "metadata": {},
   "source": [
    "<div>\n",
    "    <a href=\"https://plot.ly/~frksteenhoff2/167/\" target=\"_blank\" title=\"salaries.png\" style=\"display: block; text-align: center;\"><img src=\"https://plot.ly/~frksteenhoff2/167.png\" alt=\"salaries.png\" style=\"max-width: 100%;width: 600px;\"  width=\"600\" onerror=\"this.onerror=null;this.src='https://plot.ly/404.png';\" /></a>\n",
    "    <script data-plotly=\"frksteenhoff2:167\" src=\"https://plot.ly/embed.js\" async></script>\n",
    "</div>"
   ]
  },
  {
   "cell_type": "markdown",
   "metadata": {},
   "source": [
    "### <span style=\"color:green\">Overview</span>\n",
    "Giving the basic statistics"
   ]
  },
  {
   "cell_type": "code",
   "execution_count": 37,
   "metadata": {
    "collapsed": false
   },
   "outputs": [
    {
     "name": "stdout",
     "output_type": "stream",
     "text": [
      "SALARY OVERVIEW\n",
      "--------------------------------------\n",
      "Salaries disclosed: 18\n",
      "\n",
      "Maximum salary:     235 DKK\n",
      "Minumum salary:     125 DKK\n",
      "Mean salary:        167.0 DKK\n",
      "Median salary:      163.0 DKK\n",
      "Mode salary:        [175] DKK\n"
     ]
    }
   ],
   "source": [
    "print \"SALARY OVERVIEW\"\n",
    "print \"--------------------------------------\"\n",
    "print \"Salaries disclosed: \" + str(len(salaries)) + \"\\n\"\n",
    "print \"Maximum salary:     \" + str(max(salaries)) + \" DKK\"\n",
    "print \"Minumum salary:     \" + str(min(salaries)) + \" DKK\"\n",
    "print \"Mean salary:        \" + str(np.mean(salaries)) + \" DKK\"\n",
    "print \"Median salary:      \" + str(np.median(salaries)) + \" DKK\"\n",
    "print \"Mode salary:        \" + str(mode(salaries)[0]) + \" DKK\""
   ]
  },
  {
   "cell_type": "markdown",
   "metadata": {},
   "source": [
    "### <span style=\"color:green\">Box plot</span>\n",
    "\n",
    "*The plot will only interactive if you click it and let it redirect you to plotly.com.*"
   ]
  },
  {
   "cell_type": "code",
   "execution_count": null,
   "metadata": {
    "collapsed": false
   },
   "outputs": [],
   "source": [
    "trace0 = go.Box(\n",
    "    y=salaries,\n",
    "    name=\"Students\"\n",
    ")\n",
    "\n",
    "data = [trace0]\n",
    "\n",
    "layout= go.Layout(\n",
    "        title=\"Box plot - student salaries\",\n",
    "        yaxis=dict(\n",
    "            title=\"Salary in DKK\"\n",
    "        )\n",
    "    )\n",
    "fig = go.Figure(data=data, layout=layout)\n",
    "py.iplot(fig)"
   ]
  },
  {
   "cell_type": "markdown",
   "metadata": {},
   "source": [
    "<div>\n",
    "    <a href=\"https://plot.ly/~frksteenhoff2/171/\" target=\"_blank\" title=\"plot from API (34)\" style=\"display: block; text-align: center;\"><img src=\"https://plot.ly/~frksteenhoff2/171.png\" alt=\"plot from API (34)\" style=\"max-width: 100%;width: 600px;\"  width=\"600\" onerror=\"this.onerror=null;this.src='https://plot.ly/404.png';\" /></a>\n",
    "    <script data-plotly=\"frksteenhoff2:171\" src=\"https://plot.ly/embed.js\" async></script>\n",
    "</div>\n"
   ]
  },
  {
   "cell_type": "markdown",
   "metadata": {},
   "source": [
    "### <span style=\"color:green\">Other visualization</span>"
   ]
  },
  {
   "cell_type": "code",
   "execution_count": 30,
   "metadata": {
    "collapsed": false
   },
   "outputs": [
    {
     "data": {
      "text/plain": [
       "u'https://plot.ly/~frksteenhoff2/169'"
      ]
     },
     "execution_count": 30,
     "metadata": {},
     "output_type": "execute_result"
    }
   ],
   "source": [
    "count_ = arange(0,len(salaries))\n",
    "\n",
    "# Generated linear fit\n",
    "slope, intercept, r_value, p_value, std_err = stats.linregress(count_,salaries)\n",
    "line = slope*count_+intercept\n",
    "\n",
    "plt.plot(count_,salaries,'o', count_, line)\n",
    "pylab.title('Linear Fit with Matplotlib')\n",
    "ax = plt.gca()\n",
    "ax.set_axis_bgcolor((0.898, 0.898, 0.898))\n",
    "fig = plt.gcf()\n",
    "py.plot_mpl(fig, filename='linear-Fit-with-matplotlib')"
   ]
  },
  {
   "cell_type": "markdown",
   "metadata": {},
   "source": [
    "<div>\n",
    "    <a href=\"https://plot.ly/~frksteenhoff2/169/\" target=\"_blank\" title=\"linear-Fit-with-matplotlib\" style=\"display: block; text-align: center;\"><img src=\"https://plot.ly/~frksteenhoff2/169.png\" alt=\"linear-Fit-with-matplotlib\" style=\"max-width: 100%;width: 600px;\"  width=\"600\" onerror=\"this.onerror=null;this.src='https://plot.ly/404.png';\" /></a>\n",
    "    <script data-plotly=\"frksteenhoff2:169\" src=\"https://plot.ly/embed.js\" async></script>\n",
    "</div>\n"
   ]
  }
 ],
 "metadata": {
  "kernelspec": {
   "display_name": "Python [Root]",
   "language": "python",
   "name": "Python [Root]"
  },
  "language_info": {
   "codemirror_mode": {
    "name": "ipython",
    "version": 2
   },
   "file_extension": ".py",
   "mimetype": "text/x-python",
   "name": "python",
   "nbconvert_exporter": "python",
   "pygments_lexer": "ipython2",
   "version": "2.7.12"
  }
 },
 "nbformat": 4,
 "nbformat_minor": 2
}
