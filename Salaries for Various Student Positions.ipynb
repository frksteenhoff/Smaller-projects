{
 "cells": [
  {
   "cell_type": "markdown",
   "metadata": {},
   "source": [
    "## <span style=\"color:green\">Salaries for various student positions disclosed by students @ DTU March 2018</span>\n",
    "*The notebook will be updated as more information is given from students. I am not flawless, so if you find any errors, please let me know, and I'll fix it.*\n",
    "\n",
    "----\n",
    "\n",
    "From Facebook thread started by Simone Lykke Vestergaard 28/03/2018.\n",
    "\n",
    "This Notebook investigates the actual salaries of students from The Technical University of Denmark. Some employers follow the  salary statistics from IDA (Engineering Association Denmark) and some don't, this statistic is meant to set a standard for the wage of engineering student workers and it is meant to be our \"value\" -- what we actually earn seem to be a bit lower. \n",
    "\n",
    "What we actually earn will be showed in some basic plots below. If you are interested in the salary statistics from IDA, they are as follows (description in Danish only):\n",
    "<img src=\"salary_stats.jpg\" alt=\"salary stats\" style=\"width: 700px;\"/>\n",
    "\n",
    "#### <span style=\"color:green\">If we try to set this up with your current max amount of SU:</span>\n",
    "According to [minSU.dk](http://www.su.dk/su/su-betingelser/saa-meget-maa-du-tjene-fribeloeb/) you can earn [12.222](http://www.su.dk/su/su-betingelser/saa-meget-maa-du-tjene-fribeloeb/fribeloeb/satser-for-fribeloeb/) DKK (in 2018) based on the lowest \"fribeløb\".\n",
    "\n",
    "Let's try to map this against IDA's statistics:\n",
    "\n",
    "| Salary/hour  | Earnings/month (15h/week) | Diff  | Earning/month (20h/week) | Diff |\n",
    "|---|---|---|---|---|  \n",
    "| 163 DKK  | 9.780 DKK   | <span style=\"color:green\">2.352 DKK</span>  | 13.040 DKK  | <span style=\"color:red\">-818 DKK</span> | \n",
    "| 173 DKK  | 10.380 DKK  | <span style=\"color:green\">1.842 DKK</span>  | 13.840 DKK  | <span style=\"color:red\">-1.618 DKK</span>  |\n",
    "| 182 DKK  | 10.920 DKK  | <span style=\"color:green\">1.302 DKK</span>  | 14.560 DKK  | <span style=\"color:red\">-2.338 DKK</span>  |\n",
    "| 191 DKK  | 11.460 DKK  | <span style=\"color:green\">762 DKK</span>  | 15.280 DKK  | <span style=\"color:red\">-3.058 DKK</span>  |\n",
    "| 198 DKK  | 11.880 DKK  | <span style=\"color:green\">342 DKK</span>  | 15.840 DKK  | <span style=\"color:red\">-3.618 DKK</span>  |\n",
    "\n",
    "From the above table, it is made clear that with any of the salaries from IDA, working 20 hours a week, a student will earn more than the allowed \"fribeløb\" and would therefore have to **pay back money to the government** other options would be to\n",
    "* negotiate a different amount of hours with his/her employer or \n",
    "* choose to put the money into a pension account which is the only way to earn more than what is allowed without having to pay the money back.\n",
    "\n",
    "#### <span style=\"color:green\">FOR READERS</span>\n",
    "**Just checkout the plotting in the bottom -- here you also get the basic stats.**\n",
    "\n",
    "I am still working on the looks of it, please don't judge it too harshly. -- If you have any comments, please write to me.\n",
    "\n",
    "**Disclaimer:** *Some of the salaries are including pension, others are not. As the input was not specified further we have no was of distinguishing between \"falsely inflated\" salaries due to pension.**\n",
    "\n",
    "----\n",
    "\n",
    "### <span style=\"color:green\">Setup</span>\n",
    "* All salaries are disclosed by students and added in the `students` list \n",
    "* only those who explicitly have stated that their work is not relevant for their studies, will have a `0` in the `relevant` list.\n",
    "* companies are not added -- can be done upon request -- would it be bad to show?"
   ]
  },
  {
   "cell_type": "code",
   "execution_count": 22,
   "metadata": {
    "collapsed": true
   },
   "outputs": [],
   "source": [
    "import numpy as np\n",
    "import pandas as pd\n",
    "\n",
    "# Scientific libraries\n",
    "from numpy import arange,array,ones\n",
    "from scipy import stats\n",
    "from scipy.stats import mode\n",
    "\n",
    "# Plotting tools\n",
    "import plotly \n",
    "from IPython.display import Image \n",
    "import plotly.plotly as py\n",
    "import plotly.graph_objs as go\n",
    "\n",
    "# API access to Plotly plotting tools\n",
    "plotly.tools.set_credentials_file(username='frksteenhoff2', api_key ='duu8hsfRmuI5rF2EU8o5')\n",
    "\n",
    "import matplotlib.pyplot as plt\n",
    "from matplotlib import pylab\n",
    "%matplotlib inline"
   ]
  },
  {
   "cell_type": "code",
   "execution_count": 55,
   "metadata": {
    "collapsed": true
   },
   "outputs": [],
   "source": [
    "salaries = [150, 170, 149, 155, 185, 185, 206, 175, 155, 185, 145, 125, 156, 175, 235, 175, 130, 150, 150]\n",
    "relevant = [1,   1,   1,   1,   1,   1,   1,   1,   0,   1,   1,   1,   1,   1,   1,   1,   1,   1,   1]\n",
    "count_ = range(0,len(salaries))"
   ]
  },
  {
   "cell_type": "code",
   "execution_count": 16,
   "metadata": {
    "collapsed": true
   },
   "outputs": [],
   "source": [
    "# Plotting bar chart - no grouping\n",
    "def plotbar(bar, name, x_in, title, xaxis, yaxis, filename_, rgba='rgba(255,128,0,0.9)'):\n",
    "    trace = go.Bar(\n",
    "        x    = x_in,\n",
    "        y    = bar,\n",
    "        name = name,\n",
    "        marker = dict(\n",
    "            color = rgba,\n",
    "        )\n",
    "    )\n",
    " \n",
    "    data = [trace]\n",
    "    layout= go.Layout(\n",
    "        title=title,\n",
    "        xaxis=dict(\n",
    "            title=xaxis\n",
    "        ),\n",
    "        yaxis=dict(\n",
    "            title=yaxis\n",
    "        )\n",
    "    )\n",
    "\n",
    "    fig = go.Figure(data=data, layout=layout)\n",
    "    py.iplot(fig, sharing='public', filename=filename_)"
   ]
  },
  {
   "cell_type": "code",
   "execution_count": 56,
   "metadata": {
    "collapsed": true
   },
   "outputs": [],
   "source": [
    "def createBoxPlot(data, samplename, title, samplelabel):\n",
    "    trace0 = go.Box(\n",
    "    y=salaries,\n",
    "    name=samplename\n",
    "    )\n",
    "\n",
    "    data = [trace0]\n",
    "\n",
    "    layout= go.Layout(\n",
    "        title=title,\n",
    "        yaxis=dict(\n",
    "            title=samplelabel\n",
    "        )\n",
    "    )\n",
    "    fig = go.Figure(data=data, layout=layout)\n",
    "    return py.iplot(fig)"
   ]
  },
  {
   "cell_type": "markdown",
   "metadata": {},
   "source": [
    "### <span style=\"color:green\">Bar chart</span> \n",
    "\n",
    "*For people viewing this directly from GitHub: The plot will only interactive if you right-click it and let it redirect you to plotly.com.*"
   ]
  },
  {
   "cell_type": "code",
   "execution_count": 57,
   "metadata": {},
   "outputs": [],
   "source": [
    "plotbar(salaries, \"Student\", count_,\"Salaries for student worker positions\", \"Student\", \"Salary\", \"salaries.png\")"
   ]
  },
  {
   "cell_type": "markdown",
   "metadata": {},
   "source": [
    "<div>\n",
    "    <a href=\"https://plot.ly/~frksteenhoff2/167/salaries-for-student-worker-positions/\" target=\"_blank\" title=\"salaries.png\" style=\"display: block; text-align: center;\"><img src=\"https://plot.ly/~frksteenhoff2/167.png\" alt=\"salaries.png\" style=\"max-width: 100%;width: 600px;\"  width=\"600\" onerror=\"this.onerror=null;this.src='https://plot.ly/404.png';\" /></a>\n",
    "    <script data-plotly=\"frksteenhoff2:167\" src=\"https://plot.ly/embed.js\" async></script>\n",
    "</div>"
   ]
  },
  {
   "cell_type": "markdown",
   "metadata": {},
   "source": [
    "### <span style=\"color:green\">Stats</span>\n",
    "Giving the basic statistics"
   ]
  },
  {
   "cell_type": "code",
   "execution_count": 58,
   "metadata": {},
   "outputs": [
    {
     "name": "stdout",
     "output_type": "stream",
     "text": [
      "SALARY OVERVIEW\n",
      "--------------------------------------\n",
      "Salaries disclosed: 19\n",
      "\n",
      "Maximum salary:     235 DKK\n",
      "Minumum salary:     125 DKK\n",
      "Mean salary:        166.105263158 DKK\n",
      "Median salary:      156.0 DKK\n",
      "Mode salary:        [150] DKK\n"
     ]
    }
   ],
   "source": [
    "print \"SALARY OVERVIEW\"\n",
    "print \"--------------------------------------\"\n",
    "print \"Salaries disclosed: \" + str(len(salaries)) + \"\\n\"\n",
    "print \"Maximum salary:     \" + str(max(salaries)) + \" DKK\"\n",
    "print \"Minumum salary:     \" + str(min(salaries)) + \" DKK\"\n",
    "print \"Mean salary:        \" + str(np.mean(salaries)) + \" DKK\"\n",
    "print \"Median salary:      \" + str(np.median(salaries)) + \" DKK\"\n",
    "print \"Mode salary:        \" + str(mode(salaries)[0]) + \" DKK\""
   ]
  },
  {
   "cell_type": "markdown",
   "metadata": {},
   "source": [
    "### <span style=\"color:green\">Box plot</span>\n",
    "\n",
    "*For people viewing this directly from GitHub: The plot will only interactive if you right-click it and let it redirect you to plotly.com.*"
   ]
  },
  {
   "cell_type": "code",
   "execution_count": 60,
   "metadata": {},
   "outputs": [],
   "source": [
    "createBoxPlot(salaries, \"Students\", \"Box plot - Student Worker Salaries in DKK\", \"Salary in DKK\")"
   ]
  },
  {
   "cell_type": "markdown",
   "metadata": {},
   "source": [
    "<div>\n",
    "    <a href=\"https://plot.ly/~frksteenhoff2/189/box-plot-student-worker-salaries-in-dkk/\" target=\"_blank\" title=\"plot from API (42)\" style=\"display: block; text-align: center;\"><img src=\"https://plot.ly/~frksteenhoff2/187.png\" alt=\"plot from API (42)\" style=\"max-width: 100%;width: 600px;\"  width=\"600\" onerror=\"this.onerror=null;this.src='https://plot.ly/404.png';\" /></a>\n",
    "    <script data-plotly=\"frksteenhoff2:187\" src=\"https://plot.ly/embed.js\" async></script>\n",
    "</div>\n"
   ]
  },
  {
   "cell_type": "markdown",
   "metadata": {},
   "source": [
    "### <span style=\"color:green\">Other visualization</span>\n",
    "\n",
    "*For people viewing this directly from GitHub: The plot will only interactive if you right-click it and let it redirect you to plotly.com.*"
   ]
  },
  {
   "cell_type": "code",
   "execution_count": 47,
   "metadata": {},
   "outputs": [
    {
     "data": {
      "text/plain": [
       "u'https://plot.ly/~frksteenhoff2/169'"
      ]
     },
     "execution_count": 47,
     "metadata": {},
     "output_type": "execute_result"
    }
   ],
   "source": [
    "count_ = arange(0,len(salaries))\n",
    "\n",
    "# Generated linear fit\n",
    "slope, intercept, r_value, p_value, std_err = stats.linregress(count_,salaries)\n",
    "line = slope*count_+intercept\n",
    "\n",
    "plt.plot(count_,salaries,'o', count_, line)\n",
    "pylab.title('Linear Fit with Matplotlib')\n",
    "pylab.xlabel(\"Student\")\n",
    "pylab.ylabel(\"Salary in DKK\")\n",
    "ax = plt.gca()\n",
    "ax.set_axis_bgcolor((0.898, 0.898, 0.898))\n",
    "fig = plt.gcf()\n",
    "py.plot_mpl(fig, filename='linear-Fit-with-matplotlib')"
   ]
  },
  {
   "cell_type": "markdown",
   "metadata": {},
   "source": [
    "<div>\n",
    "    <a href=\"https://plot.ly/~frksteenhoff2/169/linear-fit-with-matplotlib/\" target=\"_blank\" title=\"linear-Fit-with-matplotlib\" style=\"display: block; text-align: center;\"><img src=\"https://plot.ly/~frksteenhoff2/169.png\" alt=\"linear-Fit-with-matplotlib\" style=\"max-width: 100%;width: 600px;\"  width=\"600\" onerror=\"this.onerror=null;this.src='https://plot.ly/404.png';\" /></a>\n",
    "    <script data-plotly=\"frksteenhoff2:169\" src=\"https://plot.ly/embed.js\" async></script>\n",
    "</div>\n"
   ]
  }
 ],
 "metadata": {
  "kernelspec": {
   "display_name": "Python 2",
   "language": "python",
   "name": "python2"
  },
  "language_info": {
   "codemirror_mode": {
    "name": "ipython",
    "version": 2
   },
   "file_extension": ".py",
   "mimetype": "text/x-python",
   "name": "python",
   "nbconvert_exporter": "python",
   "pygments_lexer": "ipython2",
   "version": "2.7.13"
  }
 },
 "nbformat": 4,
 "nbformat_minor": 2
}
