{
 "cells": [
  {
   "cell_type": "markdown",
   "metadata": {},
   "source": [
    "# Accessing content in Google Keep\n",
    "It would be nice with an actual API, but since I cannot find any, I am trying to access the information with `urllib`"
   ]
  },
  {
   "cell_type": "markdown",
   "metadata": {},
   "source": [
    "Done with a scraper [here](https://github.com/jcontini/google-keep-scraper), not exactly what I wanted, but an okay method."
   ]
  },
  {
   "cell_type": "code",
   "execution_count": 3,
   "metadata": {
    "collapsed": true
   },
   "outputs": [],
   "source": [
    "# Fetching test content (for all examples here)\n",
    "import urllib2\n",
    "response = urllib2.urlopen('https://keep.google.com/#LIST/1610896a3dc.8c1a3ebe3a557ebf')\n",
    "#response = urllib2.urlopen('https://keep.google.com')\n",
    "html = response.read()"
   ]
  },
  {
   "cell_type": "code",
   "execution_count": 6,
   "metadata": {
    "collapsed": false
   },
   "outputs": [
    {
     "data": {
      "text/plain": [
       "'\\n<!DOCTYPE html>\\n<html lang=\"en\">\\n  <head>\\n  <meta charset=\"utf-8\">\\n  <meta content=\"width=300, initial-scale=1\" name=\"viewport\">\\n  <meta name=\"google-site-verification\" content=\"LrdTUW9psUAMbh4Ia074-BPEVmcpBxF6Gwf0MSgQXZs\">\\n  <title>Sign in - Google Accounts</title>\\n  <style>\\n  @font-face {\\n  font-family: \\'Open Sans\\';\\n  font-style: normal;\\n  font-weight: 300;\\n  src: local(\\'Open Sans Light\\'), local(\\'OpenSans-Light\\'), url(//fonts.gstatic.com/s/opensans/v15/DXI1ORHCpsQm3Vp6mXoaTYnF5uFdDttMLvmWuJdhhgs.ttf) format(\\'truetype\\');\\n}\\n@font-face {\\n  font-family: \\'Open Sans\\';\\n  font-style: normal;\\n  font-weight: 400;\\n  src: local(\\'Open Sans\\'), local(\\'OpenSans\\'), url(//fonts.gstatic.com/s/opensans/v15/cJZKeOuBrn4kERxqtaUH3aCWcynf_cDxXwCLxiixG1c.ttf) format(\\'truetype\\');\\n}\\n  </style>\\n  <style>\\n  h1, h2 {\\n  -webkit-animation-duration: 0.1s;\\n  -webkit-animation-name: fontfix;\\n  -webkit-animation-iteration-count: 1;\\n  -webkit-animation-timing-function: linear;\\n  -webkit-animation-delay: 0;\\n  }\\n  @-webk'"
      ]
     },
     "execution_count": 6,
     "metadata": {},
     "output_type": "execute_result"
    }
   ],
   "source": [
    "#Really bad format for getting text....\n",
    "html[:1000]"
   ]
  },
  {
   "cell_type": "code",
   "execution_count": null,
   "metadata": {
    "collapsed": true
   },
   "outputs": [],
   "source": []
  }
 ],
 "metadata": {
  "kernelspec": {
   "display_name": "Python [Root]",
   "language": "python",
   "name": "Python [Root]"
  },
  "language_info": {
   "codemirror_mode": {
    "name": "ipython",
    "version": 2
   },
   "file_extension": ".py",
   "mimetype": "text/x-python",
   "name": "python",
   "nbconvert_exporter": "python",
   "pygments_lexer": "ipython2",
   "version": "2.7.12"
  }
 },
 "nbformat": 4,
 "nbformat_minor": 2
}
