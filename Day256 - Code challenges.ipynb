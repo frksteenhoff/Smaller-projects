{
 "cells": [
  {
   "cell_type": "markdown",
   "metadata": {},
   "source": [
    "## Code challenges - Danske Bank - Fall 2017\n",
    "----\n",
    "\n",
    "**Task 1**\n",
    "\n",
    "Create the shortest program/script that accepts single stdin string arg, returns single stdout string."
   ]
  },
  {
   "cell_type": "code",
   "execution_count": 61,
   "metadata": {
    "collapsed": true
   },
   "outputs": [],
   "source": [
    "# OPTIMIZED\n",
    "import sys, re                                       # 14 chars\n",
    "m=[\"--.. . .-. ---\",\"--- -. .\",\"- .-- ---\",\"- .... .-. . .\",\"..-. --- ..- .-.\",\"..-. .. ...- .\",\"... .. -..-\",\"... . ...- . -.\",\". .. --. .... -\",\"-. .. -. .\",\"-- .. -. ..- ...\",\".--. .-.. ..- ...\"] # 188 chars\n",
    "#n=[\"0\",\"1\",\"2\",\"3\",\"4\",\"5\",\"6\",\"7\",\"8\",\"9\",\"-\",\"+\"]  # 51 chars\n",
    "n=\"0123456789-+\"                                     # 16 chars\n",
    "print (\" / \").join([m[n.index(c)] for c in str(eval((\"\").join([n[m.index(p.strip())] for p in sys.argv[1].split(\"/\")])))]) # 120 chars\n",
    "\n"
   ]
  },
  {
   "cell_type": "markdown",
   "metadata": {},
   "source": [
    "*Naïve implementation*"
   ]
  },
  {
   "cell_type": "code",
   "execution_count": 58,
   "metadata": {
    "collapsed": true
   },
   "outputs": [],
   "source": [
    "# Only working for numbers LEQ 9\n",
    "\n",
    "morse[eval((\"\").join([num[morse.index(morsePart.strip())] for morsePart in \"-. .. -. . / -- .. -. ..- ... / -. .. -. . / .--. .-.. ..- ... /-. .. -. .\".split(\"/\")]))]"
   ]
  },
  {
   "cell_type": "markdown",
   "metadata": {},
   "source": [
    "**Task 2**\n",
    "\n",
    "Pretty picture"
   ]
  },
  {
   "cell_type": "code",
   "execution_count": null,
   "metadata": {
    "collapsed": true
   },
   "outputs": [],
   "source": []
  },
  {
   "cell_type": "markdown",
   "metadata": {},
   "source": [
    "**Task 3**\n",
    "\n",
    "Lossy compression"
   ]
  },
  {
   "cell_type": "code",
   "execution_count": null,
   "metadata": {
    "collapsed": true
   },
   "outputs": [],
   "source": []
  }
 ],
 "metadata": {
  "kernelspec": {
   "display_name": "Python [Root]",
   "language": "python",
   "name": "Python [Root]"
  },
  "language_info": {
   "codemirror_mode": {
    "name": "ipython",
    "version": 2
   },
   "file_extension": ".py",
   "mimetype": "text/x-python",
   "name": "python",
   "nbconvert_exporter": "python",
   "pygments_lexer": "ipython2",
   "version": "2.7.12"
  }
 },
 "nbformat": 4,
 "nbformat_minor": 2
}
