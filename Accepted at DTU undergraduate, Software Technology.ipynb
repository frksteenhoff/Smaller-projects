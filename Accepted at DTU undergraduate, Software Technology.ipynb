{
 "cells": [
  {
   "cell_type": "markdown",
   "metadata": {},
   "source": [
    "## Key numbers on acceptance to DTU\n",
    "Students accepted in software technology, undergraduate.\n",
    "\n",
    "----\n",
    "![DTU logo](http://dtu-studiedatavarehus.ait.dtu.dk/images/IndexDeko.jpg)"
   ]
  },
  {
   "cell_type": "markdown",
   "metadata": {},
   "source": [
    "All work here is based on data from the [DTU Study Data Warehouse](http://dtu-studiedatavarehus.ait.dtu.dk/Default.aspx).\n",
    "\n",
    "Right now, the work has only been focusing on accepted students, but I will also include numbers on the number of students who actually graduated.\n",
    "\n",
    "----"
   ]
  },
  {
   "cell_type": "markdown",
   "metadata": {},
   "source": [
    "## Prerequisite "
   ]
  },
  {
   "cell_type": "code",
   "execution_count": 30,
   "metadata": {
    "collapsed": false
   },
   "outputs": [],
   "source": [
    "# IMPORTS\n",
    "import re\n",
    "import urllib2\n",
    "import json\n",
    "import numpy as np\n",
    "import pandas as pd\n",
    "\n",
    "# Plotting tools\n",
    "import plotly \n",
    "from IPython.display import Image \n",
    "import plotly.plotly as py\n",
    "import plotly.graph_objs as go\n",
    "# API access to plotting tools\n",
    "plotly.tools.set_credentials_file(username='frksteenhoff2', api_key ='duu8hsfRmuI5rF2EU8o5')\n",
    "import matplotlib.pyplot as plt\n",
    "%matplotlib inline\n",
    "\n",
    "# QUERY FOR HISTORIC DATA ON ACCEPTANCE, SOFTWARE TECHNOLOGY\n",
    "request_url = 'http://dtu-studiedatavarehus.ait.dtu.dk/vis_noegletal_optag.aspx?aar=0&sem=e&udd=1&ret=12&kon=Alle&alder=0&nt=0&vd=0&land=0&region=0&kv=0&eks=0'\n",
    "\n",
    "response = urllib2.urlopen(request_url)\n",
    "#temp_data = json.load(response)"
   ]
  },
  {
   "cell_type": "code",
   "execution_count": 10,
   "metadata": {
    "collapsed": false
   },
   "outputs": [
    {
     "data": {
      "text/plain": [
       "''"
      ]
     },
     "execution_count": 10,
     "metadata": {},
     "output_type": "execute_result"
    }
   ],
   "source": [
    "# Fetching data directly from webpage works poorly -- only as instance, not object\n",
    "response.read(1000)"
   ]
  },
  {
   "cell_type": "markdown",
   "metadata": {},
   "source": [
    "----\n",
    "## Key numbers\n",
    "As fetching directly from the database works poorly, I have added the numbers manually from this query:\n",
    "\n",
    "[`http://dtu-studiedatavarehus.ait.dtu.dk/vis_noegletal_optag.aspx?aar=0&sem=e&udd=1&ret=12&kon=Alle&alder=0&nt=0&vd=0&land=0&region=0&kv=0&eks=0`](http://dtu-studiedatavarehus.ait.dtu.dk/vis_noegletal_optag.aspx?aar=0&sem=e&udd=1&ret=12&kon=Alle&alder=0&nt=0&vd=0&land=0&region=0&kv=0&eks=0)"
   ]
  },
  {
   "cell_type": "markdown",
   "metadata": {},
   "source": [
    "### Accepted"
   ]
  },
  {
   "cell_type": "code",
   "execution_count": 106,
   "metadata": {
    "collapsed": false
   },
   "outputs": [],
   "source": [
    "# Percentage male/female accepted on undergrad Software technology at DTU\n",
    "\n",
    "YEAR         = range(2004,2018)\n",
    "\n",
    "# Percentage accepted female/male\n",
    "DTU_CS_P_F   = np.asarray([5, 2, 2, 0,  10,5, 9, 7, 7, 8, 12,7, 10,19])\n",
    "DTU_CS_P_M   = np.asarray([95,98,98,100,90,95,91,93,93,92,88,93,90,81])\n",
    "\n",
    "# All accepted, total\n",
    "CS_YEARLY_ACCEPTED = np.asarray([56,66,62,63,62,55,54,56,55,61,68,68,63,80])\n",
    "\n",
    "# Number of people accepted (calculated from the above)\n",
    "no_females = np.round(np.multiply(DTU_CS_P_F,np.asarray(CS_YEARLY_ACCEPTED/100.0)))\n",
    "no_males   = np.round(np.multiply(DTU_CS_P_M,np.asarray(CS_YEARLY_ACCEPTED/100.0)))"
   ]
  },
  {
   "cell_type": "markdown",
   "metadata": {},
   "source": [
    "### Graduated"
   ]
  },
  {
   "cell_type": "code",
   "execution_count": 119,
   "metadata": {
    "collapsed": true
   },
   "outputs": [],
   "source": [
    "GRAD_CS_F = np.asarray([0,0,0,0,5, 0, 0, 2, 1, 0, 2, 0, 2, 8])\n",
    "GRAD_CS_M = np.asarray([0,0,0,9,40,39,42,33,39,41,42,47,48,55])"
   ]
  },
  {
   "cell_type": "markdown",
   "metadata": {},
   "source": [
    "## Functions"
   ]
  },
  {
   "cell_type": "code",
   "execution_count": 117,
   "metadata": {
    "collapsed": true
   },
   "outputs": [],
   "source": [
    "# Plotting bar chart with two groups\n",
    "def plot2bar(bar1, name1, bar2, name2, x_in, title, xaxis, yaxis):\n",
    "    trace1 = go.Bar(\n",
    "        x    = x_in,\n",
    "        y    = bar1,\n",
    "        name = name1\n",
    "    )\n",
    "\n",
    "    trace2 = go.Bar(\n",
    "        x    = x_in,\n",
    "        y    = bar2,\n",
    "        name = name2\n",
    "    )\n",
    " \n",
    "    data = [trace1,trace2]\n",
    "    layout= go.Layout(\n",
    "        barmode='group',\n",
    "        title=title,\n",
    "        xaxis=dict(\n",
    "            title=xaxis\n",
    "        ),\n",
    "        yaxis=dict(\n",
    "            title=yaxis\n",
    "        )\n",
    "    )\n",
    "\n",
    "    fig = go.Figure(data=data, layout=layout)\n",
    "    return py.iplot(fig, filename='grouped-bar')"
   ]
  },
  {
   "cell_type": "code",
   "execution_count": 118,
   "metadata": {
    "collapsed": true
   },
   "outputs": [],
   "source": [
    "# Plotting bar chart - no grouping\n",
    "def plotbar(bar, name, x_in, title, xaxis, yaxis):\n",
    "    trace = go.Bar(\n",
    "        x    = x_in,\n",
    "        y    = bar,\n",
    "        name = name\n",
    "    )\n",
    " \n",
    "    data = [trace]\n",
    "    layout= go.Layout(\n",
    "        title=title,\n",
    "        xaxis=dict(\n",
    "            title=xaxis\n",
    "        ),\n",
    "        yaxis=dict(\n",
    "            title=yaxis\n",
    "        )\n",
    "    )\n",
    "\n",
    "    fig = go.Figure(data=data, layout=layout)\n",
    "    return py.iplot(fig, filename='grouped-bar')"
   ]
  },
  {
   "cell_type": "markdown",
   "metadata": {},
   "source": [
    "### Plotting\n",
    "### Acceptance"
   ]
  },
  {
   "cell_type": "code",
   "execution_count": 116,
   "metadata": {
    "collapsed": false
   },
   "outputs": [
    {
     "data": {
      "text/html": [
       "<iframe id=\"igraph\" scrolling=\"no\" style=\"border:none;\" seamless=\"seamless\" src=\"https://plot.ly/~frksteenhoff2/137.embed\" height=\"525px\" width=\"100%\"></iframe>"
      ],
      "text/plain": [
       "<plotly.tools.PlotlyDisplay object>"
      ]
     },
     "execution_count": 116,
     "metadata": {},
     "output_type": "execute_result"
    }
   ],
   "source": [
    "plot2bar(DTU_CS_P_F, \"Female\", \n",
    "         DTU_CS_P_M, \"Male\", \n",
    "         YEAR, \n",
    "         \"Accepted software technology, percentage\", \n",
    "         \"Year\", \"Percentage [%]\")"
   ]
  },
  {
   "cell_type": "code",
   "execution_count": 114,
   "metadata": {
    "collapsed": false
   },
   "outputs": [
    {
     "data": {
      "text/html": [
       "<iframe id=\"igraph\" scrolling=\"no\" style=\"border:none;\" seamless=\"seamless\" src=\"https://plot.ly/~frksteenhoff2/137.embed\" height=\"525px\" width=\"100%\"></iframe>"
      ],
      "text/plain": [
       "<plotly.tools.PlotlyDisplay object>"
      ]
     },
     "execution_count": 114,
     "metadata": {},
     "output_type": "execute_result"
    }
   ],
   "source": [
    "plot2bar(no_females, \"Female\", \n",
    "         no_males, \"Male\", \n",
    "         YEAR, \n",
    "         \"Accepted software technology, numbers\", \n",
    "         \"Year\", \"Percentage [%]\")"
   ]
  },
  {
   "cell_type": "markdown",
   "metadata": {},
   "source": [
    "----\n",
    "#### Female students only"
   ]
  },
  {
   "cell_type": "code",
   "execution_count": 115,
   "metadata": {
    "collapsed": false
   },
   "outputs": [
    {
     "data": {
      "text/html": [
       "<iframe id=\"igraph\" scrolling=\"no\" style=\"border:none;\" seamless=\"seamless\" src=\"https://plot.ly/~frksteenhoff2/137.embed\" height=\"525px\" width=\"100%\"></iframe>"
      ],
      "text/plain": [
       "<plotly.tools.PlotlyDisplay object>"
      ]
     },
     "execution_count": 115,
     "metadata": {},
     "output_type": "execute_result"
    }
   ],
   "source": [
    "plotbar(no_females, \"Female\", YEAR, \"Females accepted\", \"Year\", \"Frequency\")"
   ]
  },
  {
   "cell_type": "markdown",
   "metadata": {},
   "source": [
    "### Graduated"
   ]
  },
  {
   "cell_type": "code",
   "execution_count": 120,
   "metadata": {
    "collapsed": false
   },
   "outputs": [
    {
     "data": {
      "text/html": [
       "<iframe id=\"igraph\" scrolling=\"no\" style=\"border:none;\" seamless=\"seamless\" src=\"https://plot.ly/~frksteenhoff2/137.embed\" height=\"525px\" width=\"100%\"></iframe>"
      ],
      "text/plain": [
       "<plotly.tools.PlotlyDisplay object>"
      ]
     },
     "execution_count": 120,
     "metadata": {},
     "output_type": "execute_result"
    }
   ],
   "source": [
    "plot2bar(GRAD_CS_F, \"Female\", GRAD_CS_M, \"Male\", YEAR, \"Graduated, Software Technology\", \"Year\", \"Frequency\")"
   ]
  },
  {
   "cell_type": "markdown",
   "metadata": {},
   "source": [
    "At DTU getting a bachelor takes 3 years. This means that what one would hope, was that the number of students accepted in year `x` should be the same number of students graduated in year `x+3` -- this is why there are no graduates in 2004-2006. Overall there is quite a large number of drop-outs among the students and the number of females who actually graduate is very low. One should also take into account that quite a few students use an extra semester on completing their bachelor, which also might make it harder to fully predict the exact graduation date.\n",
    "\n",
    "**From 2004-2017, only 20 girls have actually graduated with a degree in Computer Science which means that on average 1.5 girls graduate each year.**\n",
    "\n",
    "**Of the girls accepted before 2016, only half of them graduated.**"
   ]
  },
  {
   "cell_type": "code",
   "execution_count": null,
   "metadata": {
    "collapsed": true
   },
   "outputs": [],
   "source": []
  }
 ],
 "metadata": {
  "anaconda-cloud": {},
  "kernelspec": {
   "display_name": "Python [Root]",
   "language": "python",
   "name": "Python [Root]"
  },
  "language_info": {
   "codemirror_mode": {
    "name": "ipython",
    "version": 2
   },
   "file_extension": ".py",
   "mimetype": "text/x-python",
   "name": "python",
   "nbconvert_exporter": "python",
   "pygments_lexer": "ipython2",
   "version": "2.7.12"
  }
 },
 "nbformat": 4,
 "nbformat_minor": 2
}
