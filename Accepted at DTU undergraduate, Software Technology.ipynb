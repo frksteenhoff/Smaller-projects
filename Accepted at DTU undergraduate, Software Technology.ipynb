{
 "cells": [
  {
   "cell_type": "markdown",
   "metadata": {},
   "source": [
    "# Key numbers on acceptance to DTU\n",
    "Students accepted in field of study: software technology (computer science), undergraduate.\n",
    "\n",
    "Henriette Steenhoff, s134869\n",
    "\n",
    "----\n",
    "![DTU logo](http://dtu-studiedatavarehus.ait.dtu.dk/images/IndexDeko.jpg)\n",
    "\n",
    "<br></br>\n",
    "<br></br>\n",
    "<br></br>\n",
    "<br></br>\n",
    "<br></br>\n",
    "\n",
    "<div>      \n",
    "    <span style=\"float: left;width:40%;font-size:100pt\">31</span><span style=\"float: right; width:50%;font-size:100pt\">1.5</span>\n",
    "</div> \n",
    "\n",
    "<br></br>\n",
    "<br></br>\n",
    "<br></br>\n",
    "<br></br>\n",
    "\n",
    "<div>\n",
    "    <span style=\"float: left; width:50%;font-size:15pt\">The current <span style=\"color:hotpink\">number of women</span>, out of 328 software students, <span style=\"color:hotpink\">studying software technology on bachelor level</span> at DTU</span><span style=\"float: right; width:45%;font-size:15pt\"><span style=\"color:hotpink\">Women gratuate yearly with a bachelor's degree in software technology</span> from DTU.</span>\n",
    "</div>\n",
    "\n"
   ]
  },
  {
   "cell_type": "markdown",
   "metadata": {},
   "source": [
    "----\n",
    "## Basics\n",
    "\n",
    "All work here is based on data from the [DTU Study Data Warehouse](http://dtu-studiedatavarehus.ait.dtu.dk/Default.aspx) -- sadly this site is only available in Danish.\n",
    "\n",
    "The fun starts in the [Plotting](#Plotting) section -- fast forward to this point if you are less interested in all the nitty gritty details.\n",
    "\n",
    "----"
   ]
  },
  {
   "cell_type": "markdown",
   "metadata": {},
   "source": [
    "## Prerequisite "
   ]
  },
  {
   "cell_type": "code",
   "execution_count": 2,
   "metadata": {
    "collapsed": false
   },
   "outputs": [],
   "source": [
    "# IMPORTS\n",
    "import re\n",
    "import urllib2\n",
    "import json\n",
    "import numpy as np\n",
    "import pandas as pd\n",
    "\n",
    "# Plotting tools\n",
    "import plotly \n",
    "from IPython.display import Image \n",
    "import plotly.plotly as py\n",
    "import plotly.graph_objs as go\n",
    "# API access to plotting tools\n",
    "plotly.tools.set_credentials_file(username='frksteenhoff2', api_key ='duu8hsfRmuI5rF2EU8o5')\n",
    "import matplotlib.pyplot as plt\n",
    "%matplotlib inline\n",
    "\n",
    "# QUERY FOR HISTORIC DATA ON ACCEPTANCE, SOFTWARE TECHNOLOGY\n",
    "request_url = 'http://dtu-studiedatavarehus.ait.dtu.dk/vis_noegletal_optag.aspx?aar=0&sem=e&udd=1&ret=12&kon=Alle&alder=0&nt=0&vd=0&land=0&region=0&kv=0&eks=0'\n",
    "\n",
    "response = urllib2.urlopen(request_url)\n",
    "#temp_data = json.load(response)"
   ]
  },
  {
   "cell_type": "markdown",
   "metadata": {},
   "source": [
    "I was hoping to be able to fetch all the data from the webpage with urllib in order to make the fetching of data easier. Because of the website setup this is more work than what I had time to."
   ]
  },
  {
   "cell_type": "code",
   "execution_count": 3,
   "metadata": {
    "collapsed": false
   },
   "outputs": [
    {
     "data": {
      "text/plain": [
       "'\\r\\n\\r\\n<!DOCTYPE html PUBLIC \"-//W3C//DTD XHTML 1.0 Transitional//EN\" \"http://www.w3.org/TR/xhtml1/DTD/'"
      ]
     },
     "execution_count": 3,
     "metadata": {},
     "output_type": "execute_result"
    }
   ],
   "source": [
    "# Fetching data directly from webpage works poorly -- only as instance, not object\n",
    "# The information is available and can be fetched, but it requires one hell of a regular expression.\n",
    "response.read(100)"
   ]
  },
  {
   "cell_type": "markdown",
   "metadata": {},
   "source": [
    "----\n",
    "## Key numbers\n",
    "If you want to have a look at the numbers yourself directly in the database, follow the links below.\n",
    "\n",
    "### Software Technology\n",
    "As fetching the URL content directly from the website works poorly (I would have hoped for an API/Open data solution, but nope), I have added the numbers on students accepted from the webpage manually from this query:\n",
    "\n",
    "[`http://dtu-studiedatavarehus.ait.dtu.dk/vis_noegletal_optag.aspx?aar=0&sem=e&udd=1&ret=12&kon=Alle&alder=0&nt=0&vd=0&land=0&region=0&kv=0&eks=0`](http://dtu-studiedatavarehus.ait.dtu.dk/vis_noegletal_optag.aspx?aar=0&sem=e&udd=1&ret=12&kon=Alle&alder=0&nt=0&vd=0&land=0&region=0&kv=0&eks=0)\n",
    "\n",
    "Here fetching numbers on students accepted for all years (2004-2017) on civil engineering bachelor in Computer Science at DTU.\n",
    "\n",
    "For the graduated students, I used this query:\n",
    "\n",
    "[`http://dtu-studiedatavarehus.ait.dtu.dk/vis_noegletal_faerdige.aspx?aar=0&ret=67&udd=1&kon=Alle&alder=0&nt=0&vd=0&land=0&region=&kv=0&eks=&stud=0`](http://dtu-studiedatavarehus.ait.dtu.dk/vis_noegletal_faerdige.aspx?aar=0&ret=67&udd=1&kon=Alle&alder=0&nt=0&vd=0&land=0&region=&kv=0&eks=&stud=0)\n",
    "\n",
    "Here fetching numbers on students graduated for all years (2004-2017) from civil engineering bachelor in Computer Science at DTU.\n",
    "\n",
    "### Mathematics and Technology\n",
    "\n",
    "<span style=\"color:red\">After the 18th of December numbers on students in field \"Mathematics and Technology will also be added, as these students are found also to be computer science students</span>\n",
    "\n",
    "Students accepted for all years Mathematics and Technology, DTU\n",
    "\n",
    "Sadly for MT, data are only available from 2013-2017. \n",
    "[`http://dtu-studiedatavarehus.ait.dtu.dk/vis_noegletal_optag.aspx?aar=0&sem=0&udd=1&ret=30&kon=Alle&alder=0&nt=0&vd=0&land=0&region=0&kv=0&eks=0`](http://dtu-studiedatavarehus.ait.dtu.dk/vis_noegletal_optag.aspx?aar=0&sem=0&udd=1&ret=30&kon=Alle&alder=0&nt=0&vd=0&land=0&region=0&kv=0&eks=0)\n",
    "\n",
    "Students graduated:\n",
    "\n",
    "[`http://dtu-studiedatavarehus.ait.dtu.dk/vis_noegletal_faerdige.aspx?aar=0&ret=18&udd=1&kon=Alle&alder=0&nt=0&vd=0&land=0&region=&kv=0&eks=&stud=0`](http://dtu-studiedatavarehus.ait.dtu.dk/vis_noegletal_faerdige.aspx?aar=0&ret=18&udd=1&kon=Alle&alder=0&nt=0&vd=0&land=0&region=&kv=0&eks=&stud=0)\n"
   ]
  },
  {
   "cell_type": "markdown",
   "metadata": {},
   "source": [
    "### Software Technology\n",
    "#### Accepted"
   ]
  },
  {
   "cell_type": "code",
   "execution_count": 4,
   "metadata": {
    "collapsed": false
   },
   "outputs": [],
   "source": [
    "# Percentage male/female accepted on undergrad Software technology at DTU\n",
    "\n",
    "YEAR         = range(2004,2018)\n",
    "\n",
    "# Percentage accepted female/male\n",
    "DTU_CS_P_F   = np.asarray([5, 2, 2, 0,  10,5, 9, 7, 7, 8, 12,7, 10,19])\n",
    "DTU_CS_P_M   = np.asarray([95,98,98,100,90,95,91,93,93,92,88,93,90,81])\n",
    "\n",
    "# All accepted, total\n",
    "CS_YEARLY_ACCEPTED = np.asarray([56,66,62,63,62,55,54,56,55,61,68,68,63,80])\n",
    "\n",
    "# Number of people accepted (calculated from the above)\n",
    "no_females = np.round(np.multiply(DTU_CS_P_F,np.asarray(CS_YEARLY_ACCEPTED/100.0)))\n",
    "no_males   = np.round(np.multiply(DTU_CS_P_M,np.asarray(CS_YEARLY_ACCEPTED/100.0)))"
   ]
  },
  {
   "cell_type": "markdown",
   "metadata": {},
   "source": [
    "#### Graduated"
   ]
  },
  {
   "cell_type": "code",
   "execution_count": 5,
   "metadata": {
    "collapsed": true
   },
   "outputs": [],
   "source": [
    "GRAD_CS_F = np.asarray([0,0,0,0,5, 0, 0, 2, 1, 0, 2, 0, 2, 8])\n",
    "GRAD_CS_M = np.asarray([0,0,0,9,40,39,42,33,39,41,42,47,48,55])"
   ]
  },
  {
   "cell_type": "markdown",
   "metadata": {},
   "source": [
    "### Mathematics and Technology\n",
    "\n",
    "#### Accepted"
   ]
  },
  {
   "cell_type": "code",
   "execution_count": 6,
   "metadata": {
    "collapsed": false
   },
   "outputs": [],
   "source": [
    "DTU_MT_P_F = np.asarray([32,24,31,30,24,23,39,21,34,36,38,25,37,25])\n",
    "DTU_MT_P_M = np.asarray([68,76,69,70,76,77,61,79,66,64,62,75,63,75])\n",
    "\n",
    "# All accepted, total\n",
    "MT_YEARLY_ACCEPTED = np.asarray([34,41,49,53,62,61,64,61,62,61,65,69,67,72])\n",
    "\n",
    "\n",
    "# Number of people\n",
    "no_females_mt = np.round(np.multiply(DTU_MT_P_F,np.asarray(MT_YEARLY_ACCEPTED/100.0)))\n",
    "no_males_mt   = np.round(np.multiply(DTU_MT_P_M,np.asarray(MT_YEARLY_ACCEPTED/100.0)))"
   ]
  },
  {
   "cell_type": "markdown",
   "metadata": {},
   "source": [
    "#### Graduated"
   ]
  },
  {
   "cell_type": "code",
   "execution_count": 7,
   "metadata": {
    "collapsed": true
   },
   "outputs": [],
   "source": [
    "GRAD_MT_F = np.asarray([0,0,0,0,0,0,0,0,0,18,10,20,13,15])\n",
    "GRAD_MT_M = np.asarray([0,0,0,0,0,0,0,0,0,31,27,31,29,35])"
   ]
  },
  {
   "cell_type": "markdown",
   "metadata": {},
   "source": [
    "## Functions"
   ]
  },
  {
   "cell_type": "markdown",
   "metadata": {},
   "source": [
    "In order to make the plotting look a little more sleek (and minimize redundancy of code), I wrapped the plotting up in a function for bar charts with and without grouping. "
   ]
  },
  {
   "cell_type": "code",
   "execution_count": 8,
   "metadata": {
    "collapsed": false
   },
   "outputs": [],
   "source": [
    "# Plotting bar chart with two groups\n",
    "def plot2bar(bar1, name1, bar2, name2, x_in, title, xaxis, yaxis, filename_, rgba='rgba(255,128,0,0.9)'):\n",
    "    trace1 = go.Bar(\n",
    "        x    = x_in,\n",
    "        y    = bar1,\n",
    "        name = name1\n",
    "    )\n",
    "\n",
    "    trace2 = go.Bar(\n",
    "        x    = x_in,\n",
    "        y    = bar2,\n",
    "        name = name2,\n",
    "        marker = dict(\n",
    "            color = rgba,\n",
    "        )\n",
    "    )\n",
    " \n",
    "    data = [trace1,trace2]\n",
    "    layout= go.Layout(\n",
    "        barmode='group',\n",
    "        title=title,\n",
    "        xaxis=dict(\n",
    "            title=xaxis\n",
    "        ),\n",
    "        yaxis=dict(\n",
    "            title=yaxis\n",
    "        )\n",
    "    )\n",
    "\n",
    "    fig = go.Figure(data=data, layout=layout)\n",
    "    py.iplot(fig, sharing='public', filename=filename_)"
   ]
  },
  {
   "cell_type": "code",
   "execution_count": 9,
   "metadata": {
    "collapsed": true
   },
   "outputs": [],
   "source": [
    "# Plotting bar chart - no grouping\n",
    "def plotbar(bar, name, x_in, title, xaxis, yaxis, filename_):\n",
    "    trace = go.Bar(\n",
    "        x    = x_in,\n",
    "        y    = bar,\n",
    "        name = name\n",
    "    )\n",
    " \n",
    "    data = [trace]\n",
    "    layout= go.Layout(\n",
    "        title=title,\n",
    "        xaxis=dict(\n",
    "            title=xaxis\n",
    "        ),\n",
    "        yaxis=dict(\n",
    "            title=yaxis\n",
    "        )\n",
    "    )\n",
    "\n",
    "    fig = go.Figure(data=data, layout=layout)\n",
    "    py.iplot(fig, sharing='public', filename=filename_)"
   ]
  },
  {
   "cell_type": "markdown",
   "metadata": {},
   "source": [
    "## Plotting ##\n",
    "This is where the fun starts!\n",
    "\n",
    "### Acceptance"
   ]
  },
  {
   "cell_type": "code",
   "execution_count": 39,
   "metadata": {
    "collapsed": false
   },
   "outputs": [],
   "source": [
    "plot2bar(DTU_CS_P_F, \"Female\", \n",
    "         DTU_CS_P_M, \"Male\", \n",
    "         YEAR, \n",
    "         \"Accepted software technology, percentage\", \n",
    "         \"Year\", \"Percentage [%]\",\n",
    "        'accepted_percentage.png')"
   ]
  },
  {
   "cell_type": "markdown",
   "metadata": {},
   "source": [
    "<div style\"display:inline-block\">\n",
    "    <a href=\"https://plot.ly/~frksteenhoff2/139/?share_key=gCecXr2hCWrNmkDRfoUvQE\" target=\"_blank\" title=\"accepted_percentage.png\" style=\"display: block; text-align: center;\"><img src=\"https://plot.ly/~frksteenhoff2/139.png?share_key=gCecXr2hCWrNmkDRfoUvQE\" alt=\"accepted_percentage.png\" style=\"max-width: 100%;width: 600px;\"  width=\"600\" onerror=\"this.onerror=null;this.src='https://plot.ly/404.png';\" /></a>\n",
    "    <script data-plotly=\"frksteenhoff2:139\" sharekey-plotly=\"gCecXr2hCWrNmkDRfoUvQE\" src=\"https://plot.ly/embed.js\" async></script>\n",
    "</div>"
   ]
  },
  {
   "cell_type": "code",
   "execution_count": 40,
   "metadata": {
    "collapsed": false
   },
   "outputs": [],
   "source": [
    "plot2bar(no_females, \"Female\", \n",
    "         no_males, \"Male\", \n",
    "         YEAR, \n",
    "         \"Accepted software technology, numbers\", \n",
    "         \"Year\", \"Frequency\",\n",
    "        'accepted_numbers.png')"
   ]
  },
  {
   "cell_type": "markdown",
   "metadata": {},
   "source": [
    "<style>\n",
    "   div\n",
    "   {\n",
    "     display: inline-block;\n",
    "   }\n",
    "</style>\n",
    "<div>\n",
    "    <a href=\"https://plot.ly/~frksteenhoff2/153/?share_key=NfQUS203UjuExWXAOBGJUl\" target=\"_blank\" title=\"accepted_numbers.png\" style=\"display: block; text-align: center;\"><img src=\"https://plot.ly/~frksteenhoff2/153.png?share_key=NfQUS203UjuExWXAOBGJUl\" alt=\"accepted_numbers.png\" style=\"max-width: 100%;width: 600px;\"  width=\"600\" onerror=\"this.onerror=null;this.src='https://plot.ly/404.png';\" /></a>\n",
    "    <script data-plotly=\"frksteenhoff2:153\" sharekey-plotly=\"NfQUS203UjuExWXAOBGJUl\" src=\"https://plot.ly/embed.js\" async></script>\n",
    "</div>\n"
   ]
  },
  {
   "cell_type": "code",
   "execution_count": 41,
   "metadata": {
    "collapsed": false
   },
   "outputs": [],
   "source": [
    "plot2bar(DTU_MT_P_F, \"Female\", \n",
    "         DTU_MT_P_M, \"Male\", \n",
    "         YEAR, \n",
    "         \"Accepted mathematics and technology, percentage\", \n",
    "         \"Year\", \"Percentage [%]\",\n",
    "        'accepted_percentage_mt.png')"
   ]
  },
  {
   "cell_type": "markdown",
   "metadata": {},
   "source": [
    "<div>\n",
    "    <a href=\"https://plot.ly/~frksteenhoff2/157/?share_key=S6UPa1R1KfLOHaJJ0zObg1\" target=\"_blank\" title=\"accepted_percentage_mt.png\" style=\"display: block; text-align: center;\"><img src=\"https://plot.ly/~frksteenhoff2/157.png?share_key=S6UPa1R1KfLOHaJJ0zObg1\" alt=\"accepted_percentage_mt.png\" style=\"max-width: 100%;width: 600px;\"  width=\"600\" onerror=\"this.onerror=null;this.src='https://plot.ly/404.png';\" /></a>\n",
    "    <script data-plotly=\"frksteenhoff2:157\" sharekey-plotly=\"S6UPa1R1KfLOHaJJ0zObg1\" src=\"https://plot.ly/embed.js\" async></script>\n",
    "</div>\n"
   ]
  },
  {
   "cell_type": "markdown",
   "metadata": {},
   "source": [
    "While it is clear to see that the female/male ratio is still off, there are quite a lot more girls accepted to mathematics than software technology."
   ]
  },
  {
   "cell_type": "code",
   "execution_count": 42,
   "metadata": {
    "collapsed": true
   },
   "outputs": [],
   "source": [
    "plot2bar(no_females_mt, \"Female\", \n",
    "         no_males_mt, \"Male\", \n",
    "         YEAR, \n",
    "         \"Accepted mathematics and technology, numbers\", \n",
    "         \"Year\", \"Frequency\",\n",
    "        'accepted_numbers_mt.png')"
   ]
  },
  {
   "cell_type": "markdown",
   "metadata": {},
   "source": [
    "<div>\n",
    "    <a href=\"https://plot.ly/~frksteenhoff2/159/?share_key=lnobdYvzoqeBFrAhGY24fG\" target=\"_blank\" title=\"accepted_numbers_mt.png\" style=\"display: block; text-align: center;\"><img src=\"https://plot.ly/~frksteenhoff2/159.png?share_key=lnobdYvzoqeBFrAhGY24fG\" alt=\"accepted_numbers_mt.png\" style=\"max-width: 100%;width: 600px;\"  width=\"600\" onerror=\"this.onerror=null;this.src='https://plot.ly/404.png';\" /></a>\n",
    "    <script data-plotly=\"frksteenhoff2:159\" sharekey-plotly=\"lnobdYvzoqeBFrAhGY24fG\" src=\"https://plot.ly/embed.js\" async></script>\n",
    "</div>\n"
   ]
  },
  {
   "cell_type": "markdown",
   "metadata": {},
   "source": [
    "----\n",
    "#### Female students only"
   ]
  },
  {
   "cell_type": "code",
   "execution_count": 45,
   "metadata": {
    "collapsed": false
   },
   "outputs": [],
   "source": [
    "plot2bar(no_females, \"Female, software\",\n",
    "         no_females_mt, \"Female, mathematics\",\n",
    "        YEAR, \"Females accepted mathemathics/software\", \n",
    "        \"Year\", \"Frequency\", \n",
    "        'all_female_combined.png',\n",
    "        rgba='rgba(0, 204, 0, .9)',\n",
    "        )"
   ]
  },
  {
   "cell_type": "markdown",
   "metadata": {},
   "source": [
    "<div>\n",
    "    <a href=\"https://plot.ly/~frksteenhoff2/161/?share_key=lW2DhAAsFHdPNbYFWl5Vis\" target=\"_blank\" title=\"all_female_combined.png\" style=\"display: block; text-align: center;\"><img src=\"https://plot.ly/~frksteenhoff2/161.png?share_key=lW2DhAAsFHdPNbYFWl5Vis\" alt=\"all_female_combined.png\" style=\"max-width: 100%;width: 800px;\"  width=\"600\" onerror=\"this.onerror=null;this.src='https://plot.ly/404.png';\" /></a>\n",
    "    <script data-plotly=\"frksteenhoff2:161\" sharekey-plotly=\"lW2DhAAsFHdPNbYFWl5Vis\" src=\"https://plot.ly/embed.js\" async></script>\n",
    "</div>\n"
   ]
  },
  {
   "cell_type": "markdown",
   "metadata": {},
   "source": [
    "Without a doubt, female students within computer science choose math!\n",
    "\n",
    "There has definitely been an increase in women applying for the CS undergraduate at DTU, but only significantly in 2017 where almost 20% of the accepted software students are women."
   ]
  },
  {
   "cell_type": "markdown",
   "metadata": {},
   "source": [
    "### Graduated"
   ]
  },
  {
   "cell_type": "code",
   "execution_count": 49,
   "metadata": {
    "collapsed": true
   },
   "outputs": [],
   "source": [
    "plot2bar(GRAD_CS_F, \"Female\", \n",
    "         GRAD_CS_M, \"Male\", \n",
    "         YEAR, \"Graduated, Software Technology\", \n",
    "         \"Year\", \"Frequency\", \n",
    "         'graduated_numbers.png',\n",
    "         rgba='rgba(160,32,240,0.9)')"
   ]
  },
  {
   "cell_type": "markdown",
   "metadata": {},
   "source": [
    "<div>\n",
    "    <a href=\"https://plot.ly/~frksteenhoff2/155/?share_key=66xF1Tmrx5ptlv5T7VJQDu\" target=\"_blank\" title=\"graduated_numbers.png\" style=\"display: block; text-align: center;\"><img src=\"https://plot.ly/~frksteenhoff2/155.png?share_key=66xF1Tmrx5ptlv5T7VJQDu\" alt=\"graduated_numbers.png\" style=\"max-width: 100%;width: 800px;\"  width=\"600\" onerror=\"this.onerror=null;this.src='https://plot.ly/404.png';\" /></a>\n",
    "    <script data-plotly=\"frksteenhoff2:155\" sharekey-plotly=\"66xF1Tmrx5ptlv5T7VJQDu\" src=\"https://plot.ly/embed.js\" async></script>\n",
    "</div>\n"
   ]
  },
  {
   "cell_type": "code",
   "execution_count": 10,
   "metadata": {
    "collapsed": false
   },
   "outputs": [],
   "source": [
    "plot2bar(GRAD_MT_F, \"Female\", \n",
    "         GRAD_MT_M, \"Male\", \n",
    "         YEAR, \"Graduated, Mathematics and Technology\", \n",
    "         \"Year\", \"Frequency\", \n",
    "         'graduated_numbers_mt.png',\n",
    "          rgba='rgba(160,32,140,0.9)')"
   ]
  },
  {
   "cell_type": "markdown",
   "metadata": {},
   "source": [
    "<div>\n",
    "    <a href=\"https://plot.ly/~frksteenhoff2/163/?share_key=1LK9Truknk5msHXlhhrpul\" target=\"_blank\" title=\"graduated_numbers_mt.png\" style=\"display: block; text-align: center;\"><img src=\"https://plot.ly/~frksteenhoff2/163.png?share_key=1LK9Truknk5msHXlhhrpul\" alt=\"graduated_numbers_mt.png\" style=\"max-width: 100%;width: 800px;\"  width=\"600\" onerror=\"this.onerror=null;this.src='https://plot.ly/404.png';\" /></a>\n",
    "    <script data-plotly=\"frksteenhoff2:163\" sharekey-plotly=\"1LK9Truknk5msHXlhhrpul\" src=\"https://plot.ly/embed.js\" async></script>\n",
    "</div>\n"
   ]
  },
  {
   "cell_type": "markdown",
   "metadata": {},
   "source": [
    "Even though the maths field of study has only existed for 5 years, compared to software technology's 13, almost 4 times the number of women have graduated from mathematics within those year compared to software all time. "
   ]
  },
  {
   "cell_type": "markdown",
   "metadata": {},
   "source": [
    "## Summary\n",
    "At DTU getting a bachelor takes 3 years. This means that what one would hope, was that the number of students accepted in year `x` should be the same number of students which graduated in year `x+3` (ideally, but of course there will be drop-outs and change in field of study). There are no graduates from 2004-2006 as the field of study was made available from 2004, which means that the first students in software technology graduated in 2007. \n",
    "\n",
    "Overall there is quite a large number of drop-outs among the students and the number of females who actually graduate is *very* low. Taking into account that quite a few students use an extra semester on completing their bachelor, fully predicting the exact graduation date cannot be done from this data. Even though the number of graduating females are low, there is in fact an increase in females graduating, let's hope this tendency continues.\n",
    "\n",
    "**From 2004-2017, only 20 women have actually graduated with a degree in Computer Science, which means that on average 1.5 women graduate each year.**\n",
    "\n",
    "**Of all the women accepted up until 2016, only half of them have graduated.**"
   ]
  },
  {
   "cell_type": "code",
   "execution_count": null,
   "metadata": {
    "collapsed": true
   },
   "outputs": [],
   "source": []
  }
 ],
 "metadata": {
  "anaconda-cloud": {},
  "kernelspec": {
   "display_name": "Python [Root]",
   "language": "python",
   "name": "Python [Root]"
  },
  "language_info": {
   "codemirror_mode": {
    "name": "ipython",
    "version": 2
   },
   "file_extension": ".py",
   "mimetype": "text/x-python",
   "name": "python",
   "nbconvert_exporter": "python",
   "pygments_lexer": "ipython2",
   "version": "2.7.12"
  }
 },
 "nbformat": 4,
 "nbformat_minor": 2
}
