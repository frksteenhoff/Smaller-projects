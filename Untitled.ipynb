{
 "cells": [
  {
   "cell_type": "markdown",
   "metadata": {},
   "source": [
    "## Creating simple dendrograms\n",
    "\n",
    "For use in [Etisk Shop](https://etisk-shop.github.io/website/ja_listen/rema1000)"
   ]
  },
  {
   "cell_type": "code",
   "execution_count": 5,
   "metadata": {
    "collapsed": false
   },
   "outputs": [
    {
     "ename": "SyntaxError",
     "evalue": "keyword can't be an expression (<ipython-input-5-206fb1ae8e01>, line 9)",
     "output_type": "error",
     "traceback": [
      "\u001b[1;36m  File \u001b[1;32m\"<ipython-input-5-206fb1ae8e01>\"\u001b[1;36m, line \u001b[1;32m9\u001b[0m\n\u001b[1;33m    options(knitr.table.format = \"html\")\u001b[0m\n\u001b[1;37m           ^\u001b[0m\n\u001b[1;31mSyntaxError\u001b[0m\u001b[1;31m:\u001b[0m keyword can't be an expression\n"
     ]
    }
   ],
   "source": [
    "# libraries\n",
    "library(ggraph)\n",
    "library(igraph)\n",
    "library(tidyverse)\n",
    "library(dendextend)\n",
    "library(colormap)\n",
    "library(kableExtra)\n",
    "library(pandas)\n",
    "options(knitr.table.format = \"html\")\n",
    "\n",
    "# create a data frame \n",
    "data=data.frame(\n",
    "  level1=\"CEO\",\n",
    "  level2=c( rep(\"boss1\",4), rep(\"boss2\",4)),\n",
    "  level3=paste0(\"mister_\", letters[1:8])\n",
    ")\n",
    "\n",
    "print(data + \"HELLO\")\n",
    " \n",
    "# transform it to a edge list!\n",
    "#edges_level1_2 = data %>% select(level1, level2) %>% unique %>% rename(from=level1, to=level2)\n",
    "#edges_level2_3 = data %>% select(level2, level3) %>% unique %>% rename(from=level2, to=level3)\n",
    "#edge_list=rbind(edges_level1_2, edges_level2_3)\n",
    " \n",
    "# Now we can plot that\n",
    "'''mygraph <- graph_from_data_frame( edge_list )\n",
    "ggraph(mygraph, layout = 'dendrogram', circular = FALSE) + \n",
    "  geom_edge_diagonal() +\n",
    "  geom_node_point(color=\"#69b3a2\", size=3) +\n",
    "  geom_node_text(\n",
    "    aes(  label=c(\"CEO\", \"Manager\", \"Manager\", LETTERS[8:1]) ), \n",
    "    hjust=c(1,0.5, 0.5, rep(0,8)), \n",
    "    nudge_y = c(-.02, 0, 0, rep(.02,8)),\n",
    "    nudge_x = c(0, .3, .3, rep(0,8))\n",
    "  ) +\n",
    "  theme_void() +\n",
    "  coord_flip() +\n",
    "  scale_y_reverse() \n",
    "'''"
   ]
  },
  {
   "cell_type": "code",
   "execution_count": null,
   "metadata": {
    "collapsed": true
   },
   "outputs": [],
   "source": []
  }
 ],
 "metadata": {
  "anaconda-cloud": {},
  "kernelspec": {
   "display_name": "Python [py36]",
   "language": "python",
   "name": "Python [py36]"
  },
  "language_info": {
   "codemirror_mode": {
    "name": "ipython",
    "version": 3
   },
   "file_extension": ".py",
   "mimetype": "text/x-python",
   "name": "python",
   "nbconvert_exporter": "python",
   "pygments_lexer": "ipython3",
   "version": "3.6.1"
  }
 },
 "nbformat": 4,
 "nbformat_minor": 2
}
