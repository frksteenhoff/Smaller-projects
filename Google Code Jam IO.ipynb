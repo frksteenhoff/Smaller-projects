{
 "cells": [
  {
   "cell_type": "markdown",
   "metadata": {},
   "source": [
    "# Google Code Jam I/O prep\n",
    "\n",
    "Problems from [past contests](https://code.google.com/codejam/past-contests)"
   ]
  },
  {
   "cell_type": "markdown",
   "metadata": {},
   "source": [
    "### 1 First try: exercise from [https://code.google.com/codejam/contest/6314486/dashboard](https://code.google.com/codejam/contest/6314486/dashboard) "
   ]
  },
  {
   "cell_type": "markdown",
   "metadata": {},
   "source": [
    "Problem\n",
    "You have a special set of N six-sided dice, each of which has six different positive integers on its faces. Different dice may have different numberings.\n",
    "\n",
    "You want to arrange some or all of the dice in a row such that the faces on top form a straight (that is, they show consecutive integers). For each die, you can choose which face is on top.\n",
    "\n",
    "How long is the longest straight that can be formed in this way?\n",
    "\n",
    "Input\n",
    "The first line of the input gives the number of test cases, T. T test cases follow. Each test case begins with one line with N, the number of dice. Then, N more lines follow; each of them has six positive integers Dij. The j-th number on the i-th of these lines gives the number on the j-th face of the i-th die.\n",
    "\n",
    "Output\n",
    "For each test case, output one line containing Case #x: y, where x is the test case number (starting from 1) and y is the length of the longest straight that can be formed.\n",
    "\n",
    "Limits\n",
    "1 ≤ T ≤ 100.\n",
    "1 ≤ Dij ≤ 106 for all i, j."
   ]
  },
  {
   "cell_type": "code",
   "execution_count": 20,
   "metadata": {
    "collapsed": true
   },
   "outputs": [],
   "source": [
    "import numpy as np"
   ]
  },
  {
   "cell_type": "code",
   "execution_count": null,
   "metadata": {
    "collapsed": true
   },
   "outputs": [],
   "source": [
    "def findSmallestNumInArray(array, num_dice)\n",
    "    smallest = 0\n",
    "    row = None\n",
    "    \n",
    "    for i in range(0,num_dice):\n",
    "        if(smallest > min(array[i][:]):\n",
    "            smallest = min(array[i][:])\n",
    "            row = i\n",
    "    return smallest, row\n",
    "\n",
    "#Find the longest straight, maximum = num of dice (as each die can only show one side)\n",
    "# Stop if max = num of dice\n",
    "\n",
    "def findLongestStraightIn(array, num_dice):\n",
    "    max_straight = 1\n",
    "    smallest, row = findSmallestNumInArray(array, num_dice)\n",
    "    "
   ]
  },
  {
   "cell_type": "code",
   "execution_count": 41,
   "metadata": {
    "collapsed": false
   },
   "outputs": [
    {
     "name": "stdout",
     "output_type": "stream",
     "text": [
      "['4', '8', '15', '16', '23', '42']\n",
      "['8', '6', '7', '5', '30', '9']\n",
      "['1', '2', '3', '4', '55', '6']\n",
      "['2', '10', '18', '36', '54', '86']\n",
      "['4', '8', '15', '16', '23', '42']\n",
      "\n",
      "['1', '2', '3', '4', '5', '6']\n",
      "['60', '50', '40', '30', '20', '10']\n",
      "['4', '8', '15', '16', '23', '42']\n",
      "\n",
      "['1', '2', '3', '4', '5', '6']\n",
      "['1', '2', '3', '4', '5', '6']\n",
      "['1', '4', '2', '6', '5', '3']\n",
      "['4', '8', '15', '16', '23', '42']\n"
     ]
    }
   ],
   "source": [
    "file = open('inputio.txt', 'r') \n",
    "\n",
    "num_tests = int(file.readline())\n",
    "num_dice = int(file.readline())\n",
    "dice_array = []\n",
    "\n",
    "# As long as there are more tests to run\n",
    "for i in range(0, num_tests):\n",
    "    \n",
    "    # Run through the different dice\n",
    "    for j in range(0, num_dice):\n",
    "        dice = file.readline().strip(\"\\n\").split(\" \")\n",
    "        dice_array.append(dice)\n",
    "        print(dice)\n",
    "    \n",
    "    print(dice_array)\n",
    "    #findLongestStraightIn(dice_array, num_dice); \n",
    "    \n",
    "    # Cleaning up after each test run\n",
    "    if(i < num_tests-1):\n",
    "        print(\"\")\n",
    "        num_dice = int(file.readline()) # Updating number of dice\n",
    "        dice = []"
   ]
  },
  {
   "cell_type": "markdown",
   "metadata": {},
   "source": [
    "##  Code Jam I/O Competition 2019"
   ]
  },
  {
   "cell_type": "code",
   "execution_count": null,
   "metadata": {
    "collapsed": true
   },
   "outputs": [],
   "source": []
  },
  {
   "cell_type": "code",
   "execution_count": null,
   "metadata": {
    "collapsed": true
   },
   "outputs": [],
   "source": []
  },
  {
   "cell_type": "code",
   "execution_count": null,
   "metadata": {
    "collapsed": true
   },
   "outputs": [],
   "source": []
  },
  {
   "cell_type": "markdown",
   "metadata": {},
   "source": []
  }
 ],
 "metadata": {
  "kernelspec": {
   "display_name": "Python [py36]",
   "language": "python",
   "name": "Python [py36]"
  },
  "language_info": {
   "codemirror_mode": {
    "name": "ipython",
    "version": 3
   },
   "file_extension": ".py",
   "mimetype": "text/x-python",
   "name": "python",
   "nbconvert_exporter": "python",
   "pygments_lexer": "ipython3",
   "version": "3.6.1"
  }
 },
 "nbformat": 4,
 "nbformat_minor": 2
}
