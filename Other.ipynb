{
 "cells": [
  {
   "cell_type": "markdown",
   "metadata": {},
   "source": [
    "## Pågf7"
   ]
  },
  {
   "cell_type": "code",
   "execution_count": 2,
   "metadata": {
    "collapsed": true
   },
   "outputs": [],
   "source": [
    "import numpy as np\n",
    "import pandas as pd\n",
    "import pylab as pl\n",
    "import matplotlib as plt\n",
    "%matplotlib inline"
   ]
  },
  {
   "cell_type": "code",
   "execution_count": 69,
   "metadata": {},
   "outputs": [],
   "source": [
    "# Read data for plotting\n",
    "data = pd.read_excel('Growthfluorescence.xlsx', sheetname=\"Ark1\", skiprows=0, header=1)\n",
    "\n",
    "data.columns = ['Time', 'Growth', 'Std1', 'Fluorescence', 'Std2']\n",
    "x_time = list(data.Time)\n",
    "grow   = list(data.Growth)\n",
    "fluor  = list(data.Fluorescence)"
   ]
  },
  {
   "cell_type": "code",
   "execution_count": 70,
   "metadata": {},
   "outputs": [
    {
     "data": {
      "text/html": [
       "<div>\n",
       "<table border=\"1\" class=\"dataframe\">\n",
       "  <thead>\n",
       "    <tr style=\"text-align: right;\">\n",
       "      <th></th>\n",
       "      <th>Time</th>\n",
       "      <th>Growth</th>\n",
       "      <th>Std1</th>\n",
       "      <th>Fluorescence</th>\n",
       "      <th>Std2</th>\n",
       "    </tr>\n",
       "  </thead>\n",
       "  <tbody>\n",
       "    <tr>\n",
       "      <th>0</th>\n",
       "      <td>0.50</td>\n",
       "      <td>0.05225</td>\n",
       "      <td>0.000957</td>\n",
       "      <td>106.50</td>\n",
       "      <td>1.914854</td>\n",
       "    </tr>\n",
       "    <tr>\n",
       "      <th>1</th>\n",
       "      <td>2.00</td>\n",
       "      <td>0.08850</td>\n",
       "      <td>0.001915</td>\n",
       "      <td>102.25</td>\n",
       "      <td>2.217356</td>\n",
       "    </tr>\n",
       "    <tr>\n",
       "      <th>2</th>\n",
       "      <td>2.33</td>\n",
       "      <td>0.10350</td>\n",
       "      <td>0.001915</td>\n",
       "      <td>221.00</td>\n",
       "      <td>58.731025</td>\n",
       "    </tr>\n",
       "    <tr>\n",
       "      <th>3</th>\n",
       "      <td>2.66</td>\n",
       "      <td>0.12800</td>\n",
       "      <td>0.002160</td>\n",
       "      <td>507.00</td>\n",
       "      <td>165.172637</td>\n",
       "    </tr>\n",
       "    <tr>\n",
       "      <th>4</th>\n",
       "      <td>3.00</td>\n",
       "      <td>0.15325</td>\n",
       "      <td>0.003775</td>\n",
       "      <td>950.00</td>\n",
       "      <td>396.669468</td>\n",
       "    </tr>\n",
       "  </tbody>\n",
       "</table>\n",
       "</div>"
      ],
      "text/plain": [
       "   Time   Growth      Std1  Fluorescence        Std2\n",
       "0  0.50  0.05225  0.000957        106.50    1.914854\n",
       "1  2.00  0.08850  0.001915        102.25    2.217356\n",
       "2  2.33  0.10350  0.001915        221.00   58.731025\n",
       "3  2.66  0.12800  0.002160        507.00  165.172637\n",
       "4  3.00  0.15325  0.003775        950.00  396.669468"
      ]
     },
     "execution_count": 70,
     "metadata": {},
     "output_type": "execute_result"
    }
   ],
   "source": [
    "data.head()"
   ]
  },
  {
   "cell_type": "code",
   "execution_count": 143,
   "metadata": {},
   "outputs": [
    {
     "data": {
      "image/png": "[encoded data removed]",
      "text/plain": [
       "<matplotlib.figure.Figure at 0xd065160>"
      ]
     },
     "metadata": {},
     "output_type": "display_data"
    }
   ],
   "source": [
    "n = len(x_time)\n",
    "fig = pl.figure(figsize=(10,7))\n",
    "bar_locations = np.arange(n)\n",
    "\n",
    "# Create the different axes\n",
    "ax  = fig.add_subplot(111, label=1)\n",
    "ax2 = fig.add_subplot(111, label=2, frame_on=False)\n",
    "\n",
    "# First plot\n",
    "ax.scatter(bar_locations, grow, color='r')\n",
    "ax.plot(bar_locations, grow, color='r',linewidth=2)\n",
    "ax.set_xticks(x_time)\n",
    "#ax.set_xticks(range(1, len(grow)+1), x_time)\n",
    "ax.set_xlabel('Time [minutes]')\n",
    "ax.set_ylabel('Growth')\n",
    "ax.set_ylim([0,2.5])\n",
    "\n",
    "# Second plot\n",
    "ax2.bar(bar_locations, fluor)\n",
    "ax2.xaxis.tick_top()\n",
    "ax2.yaxis.tick_right()\n",
    "ax2.set_ylabel('Fluorescence')\n",
    "#ax2.xaxis.set_label_position('top') \n",
    "ax2.yaxis.set_label_position('right')\n",
    "\n",
    "pl.show()"
   ]
  },
  {
   "cell_type": "code",
   "execution_count": null,
   "metadata": {
    "collapsed": true
   },
   "outputs": [],
   "source": []
  }
 ],
 "metadata": {
  "kernelspec": {
   "display_name": "Python 3",
   "language": "python",
   "name": "python3"
  },
  "language_info": {
   "codemirror_mode": {
    "name": "ipython",
    "version": 3
   },
   "file_extension": ".py",
   "mimetype": "text/x-python",
   "name": "python",
   "nbconvert_exporter": "python",
   "pygments_lexer": "ipython3",
   "version": "3.6.1"
  }
 },
 "nbformat": 4,
 "nbformat_minor": 2
}
