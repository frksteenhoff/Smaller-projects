{
 "cells": [
  {
   "cell_type": "markdown",
   "metadata": {},
   "source": [
    "# Key numbers on acceptance @ The Technical University of Denmark (DTU)\n",
    "Students accepted in field of study: *Software Technology*, *Mathematics and Technology* and *Artificial Intelligence and Data Science* undergraduate which are all categorized as fields of study within computer science.\n",
    "\n",
    "Analysis created by Henriette Steenhoff, s134869\n",
    "\n",
    "----\n",
    "\n",
    "![start_screen.png](start_screen_2019.PNG)\n",
    "\n",
    "See how these statistics where previous year (tracking started in 2018)\n",
    "\n",
    "| Category | 2018 | 2019 | 2020 |\n",
    "|---|---|---|---|\n",
    "| Women in CS @ DTU       | 31   | 37   | - |\n",
    "| Women graduating yearly | 1.5  | 1.85 | - |\n",
    "| Women graduated in all  | 20   | 26   | - |\n",
    "\n",
    "\n",
    "Previous images:\n",
    "* Link to 2018 image: [2018](start_screen_2018.PNG)"
   ]
  },
  {
   "cell_type": "markdown",
   "metadata": {},
   "source": [
    "----\n",
    "# Basics\n",
    "\n",
    "All work here is based on data from the [DTU Study Data Warehouse](http://dtu-studiedatavarehus.ait.dtu.dk/Default.aspx) -- sadly this site is only available in Danish.\n",
    "\n",
    "The fun starts in the [Plotting](#Plotting) section -- fast forward to this point if you are less interested in all the nitty gritty details and coding.\n",
    "\n",
    "----"
   ]
  },
  {
   "cell_type": "markdown",
   "metadata": {},
   "source": [
    "# Prerequisites"
   ]
  },
  {
   "cell_type": "code",
   "execution_count": 1,
   "metadata": {},
   "outputs": [],
   "source": [
    "# IMPORTS\n",
    "import re\n",
    "from urllib.request import urlopen\n",
    "import numpy as np\n",
    "import pandas as pd\n",
    "\n",
    "import matplotlib.pyplot as plt\n",
    "%matplotlib inline\n",
    "\n",
    "# Own helper functions\n",
    "from plotbar import plot2bar, plot3bar\n",
    "\n",
    "# QUERY FOR HISTORIC DATA ON ACCEPTANCE, SOFTWARE TECHNOLOGY\n",
    "request_url = 'http://dtu-studiedatavarehus.ait.dtu.dk/vis_noegletal_optag.aspx?aar=0&sem=e&udd=1&ret=12&kon=Alle&alder=0&nt=0&vd=0&land=0&region=0&kv=0&eks=0'\n",
    "\n",
    "response = urlopen(request_url)\n",
    "#temp_data = json.load(response)"
   ]
  },
  {
   "cell_type": "markdown",
   "metadata": {},
   "source": [
    "*I was hoping to be able to fetch all the data from the webpage with urllib in order to make the fetching of data easier. Because of the website setup this is more work than what I had time to.*"
   ]
  },
  {
   "cell_type": "code",
   "execution_count": null,
   "metadata": {},
   "outputs": [],
   "source": [
    "# Fetching data directly from webpage works poorly -- only as instance, not object\n",
    "# The information is available and can be fetched, but it requires one hell of a regular expression.\n",
    "response.read(100)"
   ]
  },
  {
   "cell_type": "markdown",
   "metadata": {},
   "source": [
    "----\n",
    "# Key numbers\n",
    "If you want to have a look at the numbers yourself directly in the database, follow the links below.\n",
    "\n",
    "**Before you get started:**\n",
    "\n",
    "At DTU getting a bachelor takes 3 years. This means that what one would hope, was that the number of students accepted in year `x` should be the same number of students which graduated in year `x+3`. Of course this is the best case scenario and of course there will be drop-outs and changes in field of study. There are no graduates from 2004-2006 as the field of study was made available from 2004, which means that the first students in software technology graduated in 2007. \n",
    "\n",
    "In all URLs below I am fetching numbers on students graduated from 2004 to present year from civil engineering bachelor in Computer Science or Mathematics and Technology and *Artificial Intelligence and Data Science (new in 2018)* at DTU. \n",
    "\n",
    "&nbsp;\n",
    "## Software Technology\n",
    "As fetching the URL content directly from the website works poorly (I would have hoped for an API/Open data solution, but nope), I have added the numbers on from the webpage manually from the queries below:\n",
    "\n",
    "**Students accepted**\n",
    "\n",
    "* [`http://dtu-studiedatavarehus.ait.dtu.dk/vis_noegletal_optag.aspx?aar=0&sem=e&udd=1&ret=12&kon=Alle&alder=0&nt=0&vd=0&land=0&region=0&kv=0&eks=0`](http://dtu-studiedatavarehus.ait.dtu.dk/vis_noegletal_optag.aspx?aar=0&sem=e&udd=1&ret=12&kon=Alle&alder=0&nt=0&vd=0&land=0&region=0&kv=0&eks=0)\n",
    "\n",
    "**Students graduated:**\n",
    "\n",
    "* [`http://dtu-studiedatavarehus.ait.dtu.dk/vis_noegletal_faerdige.aspx?aar=0&ret=67&udd=1&kon=Alle&alder=0&nt=0&vd=0&land=0&region=&kv=0&eks=&stud=0`](http://dtu-studiedatavarehus.ait.dtu.dk/vis_noegletal_faerdige.aspx?aar=0&ret=67&udd=1&kon=Alle&alder=0&nt=0&vd=0&land=0&region=&kv=0&eks=&stud=0)\n",
    "\n",
    "&nbsp;\n",
    "\n",
    "## Mathematics and Technology\n",
    "Sadly for MT, data are only available from 2013 and onward. \n",
    "\n",
    "**Students accepted**: \n",
    "\n",
    "* [`http://dtu-studiedatavarehus.ait.dtu.dk/vis_noegletal_optag.aspx?aar=0&sem=0&udd=1&ret=30&kon=Alle&alder=0&nt=0&vd=0&land=0&region=0&kv=0&eks=0`](http://dtu-studiedatavarehus.ait.dtu.dk/vis_noegletal_optag.aspx?aar=0&sem=0&udd=1&ret=30&kon=Alle&alder=0&nt=0&vd=0&land=0&region=0&kv=0&eks=0)\n",
    "\n",
    "**Students graduated**:\n",
    "\n",
    "* [`http://dtu-studiedatavarehus.ait.dtu.dk/vis_noegletal_faerdige.aspx?aar=0&ret=18&udd=1&kon=Alle&alder=0&nt=0&vd=0&land=0&region=&kv=0&eks=&stud=0`](http://dtu-studiedatavarehus.ait.dtu.dk/vis_noegletal_faerdige.aspx?aar=0&ret=18&udd=1&kon=Alle&alder=0&nt=0&vd=0&land=0&region=&kv=0&eks=&stud=0)\n",
    "\n",
    "&nbsp;\n",
    "\n",
    "## Artificial Intelligence and Data Science\n",
    "Currently only accepted students are available in the data warehouse.\n",
    "\n",
    "**Students accepted**:\n",
    "\n",
    "* [`http://dtu-studiedatavarehus.ait.dtu.dk/vis_noegletal_bestand.aspx?aar=2018&ret=32327&udd=1&kon=Alle&alder=0&nt=0&vd=0&land=0&region=&kv=0&eks=`](http://dtu-studiedatavarehus.ait.dtu.dk/vis_noegletal_bestand.aspx?aar=2018&ret=32327&udd=1&kon=Alle&alder=0&nt=0&vd=0&land=0&region=&kv=0&eks=)\n",
    "\n"
   ]
  },
  {
   "cell_type": "markdown",
   "metadata": {},
   "source": [
    "----\n",
    "## From number to graphs with code \n",
    "I will comment on the numbers in the plotting section. The code below could have been written more concise but for ledgibility it has been split into three parts.\n",
    "\n",
    "### Software Technology\n",
    "#### Accepted"
   ]
  },
  {
   "cell_type": "code",
   "execution_count": 2,
   "metadata": {},
   "outputs": [
    {
     "name": "stdout",
     "output_type": "stream",
     "text": [
      "accepted in numbers\n",
      "no female:  [  3.   1.   1.   0.   6.   3.   5.   4.   4.   5.   8.   5.   6.  15.  15.]\n",
      "no male:    [ 53.  65.  61.  63.  56.  52.  49.  52.  51.  56.  60.  63.  57.  65.  73.]\n"
     ]
    }
   ],
   "source": [
    "# Percentage male/female accepted on undergrad Software technology at DTU\n",
    "\n",
    "YEAR         = list(range(2004,2019))\n",
    "\n",
    "# Percentage accepted female/male\n",
    "DTU_CS_P_F   = np.asarray([5, 2, 2, 0,  10,5, 9, 7, 7, 8, 12,7, 10,19,17])\n",
    "DTU_CS_P_M   = np.asarray([95,98,98,100,90,95,91,93,93,92,88,93,90,81,83])\n",
    "\n",
    "# All accepted, total\n",
    "CS_YEARLY_ACCEPTED = np.asarray([56,66,62,63,62,55,54,56,55,61,68,68,63,80,88])\n",
    "\n",
    "# Number of people accepted (calculated from the above)\n",
    "no_females = np.round(np.multiply(DTU_CS_P_F, np.asarray(CS_YEARLY_ACCEPTED / 100.0)))\n",
    "no_males   = np.round(np.multiply(DTU_CS_P_M, np.asarray(CS_YEARLY_ACCEPTED / 100.0)))\n",
    "\n",
    "print(\"accepted in numbers\")\n",
    "print(\"no female: \", no_females)\n",
    "print(\"no male:   \", no_males)"
   ]
  },
  {
   "cell_type": "markdown",
   "metadata": {},
   "source": [
    "#### Graduated"
   ]
  },
  {
   "cell_type": "code",
   "execution_count": 3,
   "metadata": {
    "collapsed": true
   },
   "outputs": [],
   "source": [
    "GRAD_CS_F = np.asarray([0,0,0,0,5, 0, 0, 2, 1, 0, 2, 0, 2, 8, 6])\n",
    "GRAD_CS_M = np.asarray([0,0,0,9,40,39,42,33,39,41,42,47,48,55,50])"
   ]
  },
  {
   "cell_type": "markdown",
   "metadata": {},
   "source": [
    "### Mathematics and Technology\n",
    "\n",
    "#### Accepted"
   ]
  },
  {
   "cell_type": "code",
   "execution_count": 4,
   "metadata": {},
   "outputs": [
    {
     "name": "stdout",
     "output_type": "stream",
     "text": [
      "accepted in numbers\n",
      "no female:  [ 11.  10.  15.  16.  15.  14.  25.  13.  21.  22.  25.  17.  25.  18.  26.]\n",
      "no male:    [ 23.  31.  34.  37.  47.  47.  39.  48.  41.  39.  40.  52.  42.  54.  60.]\n"
     ]
    }
   ],
   "source": [
    "DTU_MT_P_F = np.asarray([32,24,31,30,24,23,39,21,34,36,38,25,37,25,30])\n",
    "DTU_MT_P_M = np.asarray([68,76,69,70,76,77,61,79,66,64,62,75,63,75,70])\n",
    "\n",
    "# All accepted, total\n",
    "MT_YEARLY_ACCEPTED = np.asarray([34,41,49,53,62,61,64,61,62,61,65,69,67,72,86])\n",
    "\n",
    "\n",
    "# Number of people\n",
    "no_females_mt = np.round(np.multiply(DTU_MT_P_F, np.asarray(MT_YEARLY_ACCEPTED / 100.0)))\n",
    "no_males_mt   = np.round(np.multiply(DTU_MT_P_M, np.asarray(MT_YEARLY_ACCEPTED / 100.0)))\n",
    "\n",
    "print(\"accepted in numbers\")\n",
    "print(\"no female: \", no_females_mt)\n",
    "print(\"no male:   \", no_males_mt)"
   ]
  },
  {
   "cell_type": "markdown",
   "metadata": {},
   "source": [
    "#### Graduated"
   ]
  },
  {
   "cell_type": "code",
   "execution_count": 5,
   "metadata": {
    "collapsed": true
   },
   "outputs": [],
   "source": [
    "GRAD_MT_F = np.asarray([0,0,0,0,0,0,0,0,0,18,10,20,13,15,9])\n",
    "GRAD_MT_M = np.asarray([0,0,0,0,0,0,0,0,0,31,27,31,29,35,29])"
   ]
  },
  {
   "cell_type": "markdown",
   "metadata": {},
   "source": [
    "### Artifical Intelligence and Data Science\n",
    "\n",
    "#### Accepted"
   ]
  },
  {
   "cell_type": "code",
   "execution_count": 6,
   "metadata": {},
   "outputs": [
    {
     "name": "stdout",
     "output_type": "stream",
     "text": [
      "accepted in numbers\n",
      "no female:  [ 0.  0.  0.  0.  0.  0.  0.  0.  0.  0.  0.  0.  0.  0.  8.]\n",
      "no male:    [  0.   0.   0.   0.   0.   0.   0.   0.   0.   0.   0.   0.   0.   0.  34.]\n"
     ]
    }
   ],
   "source": [
    "DTU_AI_P_F = np.asarray([0,0,0,0,0,0,0,0,0,0,0,0,0,0,19])\n",
    "DTU_AI_P_M = np.asarray([0,0,0,0,0,0,0,0,0,0,0,0,0,0,81])\n",
    "\n",
    "# All accepted, total\n",
    "MT_YEARLY_ACCEPTED = np.asarray([0,0,0,0,0,0,0,0,0,0,0,0,0,0,42])\n",
    "\n",
    "\n",
    "# Number of people\n",
    "no_females_ai = np.round(np.multiply(DTU_AI_P_F, np.asarray(MT_YEARLY_ACCEPTED / 100.0)))\n",
    "no_males_ai   = np.round(np.multiply(DTU_AI_P_M, np.asarray(MT_YEARLY_ACCEPTED / 100.0)))\n",
    "\n",
    "print(\"accepted in numbers\")\n",
    "print(\"no female: \", no_females_ai)\n",
    "print(\"no male:   \", no_males_ai)"
   ]
  },
  {
   "cell_type": "markdown",
   "metadata": {},
   "source": [
    "#### Graduated\n",
    "*Will not be available before 2021/2022*"
   ]
  },
  {
   "cell_type": "code",
   "execution_count": null,
   "metadata": {
    "collapsed": true
   },
   "outputs": [],
   "source": []
  },
  {
   "cell_type": "markdown",
   "metadata": {},
   "source": [
    "----\n",
    "## Plotting ##\n",
    "This is where the fun starts! For each of the plots I will give some comments on what I read from the data and in the end I will do a recap on what was found.<p>\n",
    "\n",
    "### Acceptance - Software Technology"
   ]
  },
  {
   "cell_type": "code",
   "execution_count": 7,
   "metadata": {},
   "outputs": [],
   "source": [
    "# Percentage\n",
    "plot2bar(DTU_CS_P_F, \"Female\", \n",
    "         DTU_CS_P_M, \"Male\", \n",
    "         YEAR, \n",
    "         \"Accepted software technology, percentage\", \n",
    "         \"Year\", \"Percentage [%]\",\n",
    "        'accepted_percentage.png')\n",
    "\n",
    "# Frequency\n",
    "plot2bar(no_females, \"Female\", \n",
    "         no_males, \"Male\", \n",
    "         YEAR, \n",
    "         \"Accepted software technology, numbers\", \n",
    "         \"Year\", \"Frequency\",\n",
    "        'accepted_numbers_.png')"
   ]
  },
  {
   "cell_type": "markdown",
   "metadata": {},
   "source": [
    "<div>\n",
    "    <a href=\"https://plot.ly/~frksteenhoff2/139/\" target=\"_blank\" title=\"accepted_percentage.png\" style=\"display: inline-block; text-align: right;\"><img src=\"https://plot.ly/~frksteenhoff2/139.png\" alt=\"accepted_percentage.png\" style=\"max-width: 100%;width: 450px;\"  width=\"500\" onerror=\"this.onerror=null;this.src='https://plot.ly/404.png';\" /></a>\n",
    "    <script data-plotly=\"frksteenhoff2:139\" src=\"https://plot.ly/embed.js\" async></script>\n",
    "    <a href=\"https://plot.ly/~frksteenhoff2/191/\" target=\"_blank\" title=\"accepted_numbers_.png\" style=\"display: inline-block; text-align: left;\"><img src=\"https://plot.ly/~frksteenhoff2/191.png\" alt=\"accepted_numbers_.png\" style=\"max-width: 100%;width: 450px;\"  width=\"500\" onerror=\"this.onerror=null;this.src='https://plot.ly/404.png';\" /></a>\n",
    "    <script data-plotly=\"frksteenhoff2:191\" src=\"https://plot.ly/embed.js\" async></script>\n",
    "</div>\n"
   ]
  },
  {
   "cell_type": "markdown",
   "metadata": {},
   "source": [
    "It is clear to see that the number of men accepted in software technology at DTU far outweighs the women. Even though the number of women is low, there is a slight increase.<p>\n",
    "\n",
    "In general, since 2010 the number of students accepted into software technology at DTU is increasing. The number of women accepted has been low from 2004-2016 but in 2017 a significant increase can be seen -- an increase that is correspondingly high the following year.<p>\n"
   ]
  },
  {
   "cell_type": "markdown",
   "metadata": {},
   "source": [
    "### Mathematics and Technology"
   ]
  },
  {
   "cell_type": "code",
   "execution_count": null,
   "metadata": {
    "collapsed": true
   },
   "outputs": [],
   "source": [
    "# Percentage\n",
    "plot2bar(DTU_MT_P_F, \"Female\", \n",
    "         DTU_MT_P_M, \"Male\", \n",
    "         YEAR, \n",
    "         \"Accepted mathematics and technology, percentage\", \n",
    "         \"Year\", \"Percentage [%]\",\n",
    "        'accepted_percentage_mt_.png')\n",
    "\n",
    "# Frequency\n",
    "plot2bar(no_females_mt, \"Female\", \n",
    "         no_males_mt, \"Male\", \n",
    "         YEAR, \n",
    "         \"Accepted mathematics and technology, numbers\", \n",
    "         \"Year\", \"Frequency\",\n",
    "        'accepted_numbers_mt_.png')"
   ]
  },
  {
   "cell_type": "markdown",
   "metadata": {},
   "source": [
    "<div>\n",
    "    <a href=\"https://plot.ly/~frksteenhoff2/193/\" target=\"_blank\" title=\"accepted_percentage_mt_.png\" style=\"display: inline-block; text-align: center;\"><img src=\"https://plot.ly/~frksteenhoff2/193.png\" alt=\"accepted_percentage_mt_.png\" style=\"max-width: 100%;width: 450px;\"  width=\"600\" onerror=\"this.onerror=null;this.src='https://plot.ly/404.png';\" /></a>\n",
    "    <script data-plotly=\"frksteenhoff2:193\" src=\"https://plot.ly/embed.js\" async></script>\n",
    "\n",
    "    <a href=\"https://plot.ly/~frksteenhoff2/195/\" target=\"_blank\" title=\"accepted_numbers_mt_.png\" style=\"display: inline-block; text-align: center;\"><img src=\"https://plot.ly/~frksteenhoff2/195.png\" alt=\"accepted_numbers_mt_.png\" style=\"max-width: 100%;width: 450px;\"  width=\"600\" onerror=\"this.onerror=null;this.src='https://plot.ly/404.png';\" /></a>\n",
    "    <script data-plotly=\"frksteenhoff2:195\" src=\"https://plot.ly/embed.js\" async></script>\n",
    "\n",
    "</div>"
   ]
  },
  {
   "cell_type": "markdown",
   "metadata": {},
   "source": [
    "While it is clear to see that the female/male ratio is still off, there are quite a lot more girls accepted into mathematics than software technology.<p>\n",
    "\n",
    "The number of students accepted into mathematics and techology seems to have been growing steadily from its starting point in 2004. With the varying total number accepted there does not seem to be any correlation between the number of women and men accepted.<p>\n"
   ]
  },
  {
   "cell_type": "markdown",
   "metadata": {},
   "source": [
    "### Artificial Intelligence and Data Science"
   ]
  },
  {
   "cell_type": "code",
   "execution_count": null,
   "metadata": {
    "collapsed": true
   },
   "outputs": [],
   "source": [
    "# Percentage \n",
    "plot2bar(DTU_AI_P_F, \"Female\", \n",
    "         DTU_AI_P_M, \"Male\", \n",
    "         YEAR, \n",
    "         \"Accepted Artificial Intelligence and Data Science, percentage\", \n",
    "         \"Year\", \"Percentage [%]\",\n",
    "        'accepted_percentage_aip.png')\n",
    "\n",
    "# Frequency\n",
    "plot2bar(no_females_ai, \"Female\", \n",
    "         no_males_ai, \"Male\", \n",
    "         YEAR, \n",
    "         \"Accepted Artificial Intelligence and Data Science, numbers\", \n",
    "         \"Year\", \"Frequency\",\n",
    "        'accepted_numbers_ai.png')"
   ]
  },
  {
   "cell_type": "markdown",
   "metadata": {},
   "source": [
    "<div>\n",
    "    <a href=\"https://plot.ly/~frksteenhoff2/211/\" target=\"_blank\" title=\"accepted_percentage_aip.png\" style=\"display: inline-block; text-align: center;\"><img src=\"https://plot.ly/~frksteenhoff2/211.png\" alt=\"accepted_percentage_aip.png\" style=\"max-width: 100%;width: 450px;\"  width=\"600\" onerror=\"this.onerror=null;this.src='https://plot.ly/404.png';\" /></a>\n",
    "    <script data-plotly=\"frksteenhoff2:211\" src=\"https://plot.ly/embed.js\" async></script>\n",
    "    <a href=\"https://plot.ly/~frksteenhoff2/201/\" target=\"_blank\" title=\"accepted_numbers_ai.png\" style=\"display: inline-block; text-align: center;\"><img src=\"https://plot.ly/~frksteenhoff2/201.png\" alt=\"accepted_numbers_ai.png\" style=\"max-width: 100%;width: 450px;\"  width=\"600\" onerror=\"this.onerror=null;this.src='https://plot.ly/404.png';\" /></a>\n",
    "    <script data-plotly=\"frksteenhoff2:201\" src=\"https://plot.ly/embed.js\" async></script>\n",
    "</div>\n",
    "\n"
   ]
  },
  {
   "cell_type": "markdown",
   "metadata": {},
   "source": [
    "Already from the first year 20% of the students accepted into Artificial Intelligence and Data Science were female! More than 400 people applied but only 42 was accepted."
   ]
  },
  {
   "cell_type": "markdown",
   "metadata": {},
   "source": [
    "----\n",
    "### Female students only"
   ]
  },
  {
   "cell_type": "code",
   "execution_count": null,
   "metadata": {
    "collapsed": true
   },
   "outputs": [],
   "source": [
    "# Percentage\n",
    "plot3bar(DTU_CS_P_F, \"Female, software\",\n",
    "         DTU_MT_P_F, \"Female, mathematics\",\n",
    "         DTU_AI_P_F, \"Female, AI\",\n",
    "        YEAR, \"Percentage of women accepted mathemathics/software/AI\", \n",
    "        \"Year\", \"Percentage [%]\", \n",
    "        'all_female_combined3p.png',\n",
    "        rgba='rgba(0, 204, 0, .9)',\n",
    "        )\n",
    "# Frequency\n",
    "plot3bar(no_females, \"Female, software\",\n",
    "         no_females_mt, \"Female, mathematics\",\n",
    "         no_females_ai, \"Female, AI\",\n",
    "        YEAR, \"Frequency of women accepted mathemathics/software/AI\", \n",
    "        \"Year\", \"Frequency\", \n",
    "        'all_female_combined3f.png',\n",
    "        rgba='rgba(0, 204, 0, .9)',\n",
    "        )"
   ]
  },
  {
   "cell_type": "markdown",
   "metadata": {},
   "source": [
    "<div>\n",
    "    <a href=\"https://plot.ly/~frksteenhoff2/207/\" target=\"_blank\" title=\"all_female_combined3p.png\" style=\"display: inline-block; text-align: center;\"><img src=\"https://plot.ly/~frksteenhoff2/207.png\" alt=\"all_female_combined3p.png\" style=\"max-width: 100%;width: 450px;\"  width=\"600\" onerror=\"this.onerror=null;this.src='https://plot.ly/404.png';\" /></a>\n",
    "    <script data-plotly=\"frksteenhoff2:207\" src=\"https://plot.ly/embed.js\" async></script>\n",
    "    <a href=\"https://plot.ly/~frksteenhoff2/209/\" target=\"_blank\" title=\"all_female_combined3f.png\" style=\"display: inline-block; text-align: center;\"><img src=\"https://plot.ly/~frksteenhoff2/209.png\" alt=\"all_female_combined3f.png\" style=\"max-width: 100%;width: 450px;\"  width=\"600\" onerror=\"this.onerror=null;this.src='https://plot.ly/404.png';\" /></a>\n",
    "    <script data-plotly=\"frksteenhoff2:209\" src=\"https://plot.ly/embed.js\" async></script>\n",
    "</div>\n"
   ]
  },
  {
   "cell_type": "markdown",
   "metadata": {},
   "source": [
    "Aand some quick numbers"
   ]
  },
  {
   "cell_type": "code",
   "execution_count": null,
   "metadata": {},
   "outputs": [],
   "source": [
    "print(\"# software female graduates:    \", sum(GRAD_CS_F))  \n",
    "print(\"# mathematics female graduates: \", sum(GRAD_MT_F))\n",
    "print(\"ratio:                          \", round(sum(GRAD_MT_F)/sum(GRAD_CS_F),2))"
   ]
  },
  {
   "cell_type": "markdown",
   "metadata": {},
   "source": [
    "\n",
    "Without a doubt, female students within computer science most often choose the math direction.<p>\n",
    "Looking at the percentage AI is already where it took software 14 years to end up.\n",
    "\n",
    "There has definitely been an increase in women applying for the software undergraduate, but only significantly in recent years (2017 and 2018) where 15% of the accepted software students are women. As can be seen in recent years, the number of women accepted in software is slowly closing in on the numbers within mathematics.\n",
    "<p>"
   ]
  },
  {
   "cell_type": "markdown",
   "metadata": {},
   "source": [
    "## Graduated"
   ]
  },
  {
   "cell_type": "code",
   "execution_count": null,
   "metadata": {
    "collapsed": true
   },
   "outputs": [],
   "source": [
    "# Software\n",
    "plot2bar(GRAD_CS_F, \"Female\", \n",
    "         GRAD_CS_M, \"Male\", \n",
    "         YEAR, \"Graduated, Software Technology\", \n",
    "         \"Year\", \"Frequency\", \n",
    "         'graduated_numbers.png',\n",
    "         rgba='rgba(160,32,240,0.9)')\n",
    "\n",
    "# Maths\n",
    "plot2bar(GRAD_MT_F, \"Female\", \n",
    "         GRAD_MT_M, \"Male\", \n",
    "         YEAR, \"Graduated, Mathematics and Technology\", \n",
    "         \"Year\", \"Frequency\", \n",
    "         'graduated_numbers_mt.png',\n",
    "          rgba='rgba(160,32,140,0.9)')"
   ]
  },
  {
   "cell_type": "markdown",
   "metadata": {},
   "source": [
    "<div>\n",
    "    <a href=\"https://plot.ly/~frksteenhoff2/155/\" target=\"_blank\" title=\"graduated_numbers.png\" style=\"display: inline-block; text-align: center;\"><img src=\"https://plot.ly/~frksteenhoff2/155.png\" alt=\"graduated_numbers.png\" style=\"max-width: 100%;width: 450px;\"  width=\"600\" onerror=\"this.onerror=null;this.src='https://plot.ly/404.png';\" /></a>\n",
    "    <script data-plotly=\"frksteenhoff2:155\" src=\"https://plot.ly/embed.js\" async></script>\n",
    "    <a href=\"https://plot.ly/~frksteenhoff2/163/\" target=\"_blank\" title=\"graduated_numbers_mt.png\" style=\"display: inline-block; text-align: center;\"><img src=\"https://plot.ly/~frksteenhoff2/163.png\" alt=\"graduated_numbers_mt.png\" style=\"max-width: 100%;width: 450px;\"  width=\"600\" onerror=\"this.onerror=null;this.src='https://plot.ly/404.png';\" /></a>\n",
    "    <script data-plotly=\"frksteenhoff2:163\" src=\"https://plot.ly/embed.js\" async></script>\n",
    "</div>\n"
   ]
  },
  {
   "cell_type": "markdown",
   "metadata": {},
   "source": [
    "I know, overall the number of female graduates from software is bleak, but.. \n",
    "## LOOK AT THIS!\n",
    "\n",
    "|   | 2007 | 2008 | 2009 | 2010 | 2011 | 2012 | 2013 | 2014 | 2015 | 2016 | 2017 | 2018 |\n",
    "|---|---|---|---|---|---|---|---|---|---|---|---|\n",
    "|  # women graduated with a CS degree | 0 | 5 | 0 | 0 | 2 | 1 | 0 |2 | 0 | 2 | 8 | 6 |\n",
    "\n",
    "> Within the last 2 years more women have graduated with a degree in CS from DTU than the sum of all the women that graduated the previous 10 years! <span style=\"color: red\">\n",
    "*Women in software is a growing trend.*</span><p>"
   ]
  },
  {
   "cell_type": "markdown",
   "metadata": {},
   "source": [
    "The number on graduated students for mathematics and technology can only be traced back to 2013. However, compared to software technology more than 3 times the number of women have graduated from mathematics within those years compared to software all time."
   ]
  },
  {
   "cell_type": "markdown",
   "metadata": {},
   "source": [
    "# Is this a common trend?\n",
    "### Women accepted at the University of Copenhagen\n",
    "![acceptance_ku_2018.png](acceptance_ku_2018.png) \n",
    "Within the last couple of years there has been an increase in the number of women choosing a CS degree.\n",
    "\n",
    "source: https://di.ku.dk/Nyheder/2018/samfundsrelevante-temaer/IT-Branchen_Flere_kvinder_p__datalogi_2018.pdf\n",
    "\n",
    "\n",
    "### Women accepted at The IT University of Copenhagen\n",
    "![acceptance_itu_2019.png](acceptance_itu_2019.png)\n",
    "The number of women at ITU is slowly increasing but lies steadily around 35%. Generally a lot higher than the number accepted at DTU.\n",
    "\n",
    "source: https://www.itu.dk/om-itu/organisation-tal-og-fakta/tal-og-fakta/noegletal/noegletal-uddannelse"
   ]
  },
  {
   "cell_type": "raw",
   "metadata": {},
   "source": [
    "# Summary\n",
    "\n",
    "Overall there is quite a large number of drop-outs among the students accepted at DTU and the number of females who actually graduate from software technology is *very* low. Taking into account that quite a few students use an extra semester or two on completing their bachelor, fully predicting the exact graduation date cannot be done from this data. Even though the number of graduating females are low, there is in fact an increase in females graduating, let's hope this tendency continues. Within meths the number graduating is markedly higher and the trend seems to stick.\n",
    "\n",
    "> Of all the women accepted in software technology until 2016, only half of them have graduated.\n",
    "\n",
    "**From 2004-2018, 26 women have actually graduated with a degree in Computer Science, which means that on average 1.85 women graduate each year.** However from the data it can be seen that the number of women applying for an education within CS is growing. Even with less data on maths the number of women graduating is more than three times higher.\n",
    "\n",
    "The field of AI has been very popular even among women. The number of accepted women after the first year is 20%! One of the reasons for this (I believe) is the fact that the study line is better scoped. Telling someone you want to study software technology seems very vague and will only be something you truly understand if you have worked with it prior to starting your university education or after having studied it a couple of years. This is also one one of the reasons I believe women seem to be less interested. **They don't know what it is about**. This is where AI and Data Science has a large advantage. You have narrowed it down to some specific fields within maths and computer science which makes it more palpable.\n",
    "\n",
    "Comparing DTU with other universities the number of women accepted is still low but not the same ratio. The number of women on ITU is generally higher and the number of women on KU is lower but slowly catching up with DTU. The IT University is relatively new and from my experience, and what I have been told from peers, they have a competitive advantage in getting female students as they are seen as mroe modern and have a higher focus on practical learning. Copenhagen University on the other hand is seen as more theoretical and \"hard core\". Sadly as women often tend to have a lower self-esteem they don't go with the more \"hard core\" technical courses but instead focus on the softer values. This is one of the reason why I believe that the number of female students generally is higher at ITU.\n",
    "\n",
    "\n",
    "\n",
    "\n",
    "\n",
    "\n"
   ]
  }
 ],
 "metadata": {
  "anaconda-cloud": {},
  "kernelspec": {
   "display_name": "Python 3",
   "language": "python",
   "name": "python3"
  },
  "language_info": {
   "codemirror_mode": {
    "name": "ipython",
    "version": 3
   },
   "file_extension": ".py",
   "mimetype": "text/x-python",
   "name": "python",
   "nbconvert_exporter": "python",
   "pygments_lexer": "ipython3",
   "version": "3.6.1"
  }
 },
 "nbformat": 4,
 "nbformat_minor": 2
}
