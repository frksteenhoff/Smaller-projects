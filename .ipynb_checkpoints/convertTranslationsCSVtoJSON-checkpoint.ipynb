{
 "cells": [
  {
   "cell_type": "markdown",
   "metadata": {},
   "source": [
    "# ClimApp Translations: CSV to JSON \n",
    "----\n",
    "This jupyter nootebook is used to convert three CSV files to one JSON objects:\n",
    "the files need to follow the below naming scheme:\n",
    "\n",
    "#### Input\n",
    "* Toasts: `climapp_translation_sheet_toasts.csv`\n",
    "* Wheels: `climapp_translation_sheet_wheels.csv` \n",
    "* Text: `climapp_translation_sheet_text.csv`\n",
    "\n",
    "#### Output\n",
    "* `combined_object`: `translations.json`\n",
    "\n",
    "\n",
    "#### Procedure\n",
    "Each file is read one by one, converted in different ways and merged into one JSON object that will be used in the ClimApp mobile application for translating the app content.\n",
    "\n",
    "**The array `availableLanguages` contains an overview of all current languages. Update this if more languages are made available. **\n",
    "\n",
    "----\n",
    "\n",
    "#### Converting notebook to executable\n",
    "https://stackoverflow.com/questions/55741607/is-it-possible-to-generate-an-executable-exe-in-a-jupyter-notebook"
   ]
  },
  {
   "cell_type": "markdown",
   "metadata": {},
   "source": [
    "## Code\n",
    "**Importing needed libraries**"
   ]
  },
  {
   "cell_type": "code",
   "execution_count": 304,
   "metadata": {
    "collapsed": true
   },
   "outputs": [],
   "source": [
    "import pandas as pd\n",
    "import json\n",
    "import os\n",
    "import numpy as np"
   ]
  },
  {
   "cell_type": "code",
   "execution_count": 305,
   "metadata": {
    "collapsed": false
   },
   "outputs": [
    {
     "data": {
      "text/plain": [
       "'C:\\\\Users\\\\frksteenhoff\\\\Documents\\\\GitHub\\\\Smaller projects'"
      ]
     },
     "execution_count": 305,
     "metadata": {},
     "output_type": "execute_result"
    }
   ],
   "source": [
    "os.getcwd()"
   ]
  },
  {
   "cell_type": "markdown",
   "metadata": {},
   "source": [
    "## Functions\n",
    "\n",
    "Definitions of the two functions used for conversion\n",
    "\n",
    "* `toast` and `text` use **convertCSVtoJSON_simple**\n",
    "* `wheels` use **convertCSVtoJSON_nested**"
   ]
  },
  {
   "cell_type": "code",
   "execution_count": 360,
   "metadata": {
    "collapsed": true
   },
   "outputs": [],
   "source": [
    "# Converting simple CSV structure to json\n",
    "# df                 - dataframe with csv content\n",
    "# availableLanguages - languages to translate\n",
    "def convertCSVtoJSON_simple(df, availableLanguages):\n",
    "    json = {}\n",
    "    for i in range(len(df['text_id'])):\n",
    "        json[df['text_id'][i]] = { lang : df[lang][i] for lang in availableLanguages}\n",
    "    return json"
   ]
  },
  {
   "cell_type": "code",
   "execution_count": 363,
   "metadata": {
    "collapsed": true
   },
   "outputs": [],
   "source": [
    "# Converting CSV content to nested json objet\n",
    "# df                 - dataframe with csv content\n",
    "# availableLanguages - languages to translate\n",
    "def convertCSVtoJSON_nested(df, availableLanguages):\n",
    "    wheels = {}\n",
    "    # Add all unique text_id keys\n",
    "    for val in df['text_id'].unique():\n",
    "        wheels[val] = {}\n",
    "\n",
    "    # For all nested keys for each text_id if not exist, add\n",
    "    for i in range(len(df['key2'])):\n",
    "\n",
    "        if(df['key2'][i] not in wheels[df['text_id'][i]]):        \n",
    "            # Add translations for all available languages\n",
    "            wheels[df['text_id'][i]].update({df['key2'][i] : {}})\n",
    "\n",
    "        if(pd.isnull(df['key3'][i])):\n",
    "            # If key3 is null, add translations directly\n",
    "            wheels[df['text_id'][i]][df['key2'][i]].update({lang : df[lang][i] for lang in availableLanguages})\n",
    "        else:\n",
    "            # If key3 has a value, add languages as childs of the key3 value\n",
    "            wheels[df['text_id'][i]][df['key2'][i]].update({df['key3'][i] : {lang : df[lang][i] for lang in availableLanguages}})\n",
    "    return wheels"
   ]
  },
  {
   "cell_type": "markdown",
   "metadata": {},
   "source": [
    "----\n",
    "## Text"
   ]
  },
  {
   "cell_type": "markdown",
   "metadata": {},
   "source": [
    "#### Reading in file with general strings"
   ]
  },
  {
   "cell_type": "code",
   "execution_count": 347,
   "metadata": {
    "collapsed": false
   },
   "outputs": [
    {
     "data": {
      "text/html": [
       "<div>\n",
       "<style>\n",
       "    .dataframe thead tr:only-child th {\n",
       "        text-align: right;\n",
       "    }\n",
       "\n",
       "    .dataframe thead th {\n",
       "        text-align: left;\n",
       "    }\n",
       "\n",
       "    .dataframe tbody tr th {\n",
       "        vertical-align: top;\n",
       "    }\n",
       "</style>\n",
       "<table border=\"1\" class=\"dataframe\">\n",
       "  <thead>\n",
       "    <tr style=\"text-align: right;\">\n",
       "      <th></th>\n",
       "      <th>text_id</th>\n",
       "      <th>en</th>\n",
       "      <th>da</th>\n",
       "      <th>nl</th>\n",
       "      <th>sv</th>\n",
       "      <th>no</th>\n",
       "    </tr>\n",
       "  </thead>\n",
       "  <tbody>\n",
       "    <tr>\n",
       "      <th>0</th>\n",
       "      <td>str_dashboard</td>\n",
       "      <td>Dashboard</td>\n",
       "      <td>Dashboard</td>\n",
       "      <td>NaN</td>\n",
       "      <td>NaN</td>\n",
       "      <td>NaN</td>\n",
       "    </tr>\n",
       "    <tr>\n",
       "      <th>1</th>\n",
       "      <td>str_settings</td>\n",
       "      <td>Settings</td>\n",
       "      <td>Indstillinger</td>\n",
       "      <td>NaN</td>\n",
       "      <td>NaN</td>\n",
       "      <td>NaN</td>\n",
       "    </tr>\n",
       "    <tr>\n",
       "      <th>2</th>\n",
       "      <td>str_humidity</td>\n",
       "      <td>Humidity</td>\n",
       "      <td>Luftfugtighed</td>\n",
       "      <td>NaN</td>\n",
       "      <td>NaN</td>\n",
       "      <td>NaN</td>\n",
       "    </tr>\n",
       "    <tr>\n",
       "      <th>3</th>\n",
       "      <td>str_male</td>\n",
       "      <td>Male</td>\n",
       "      <td>Mand</td>\n",
       "      <td>NaN</td>\n",
       "      <td>NaN</td>\n",
       "      <td>NaN</td>\n",
       "    </tr>\n",
       "    <tr>\n",
       "      <th>4</th>\n",
       "      <td>str_female</td>\n",
       "      <td>Female</td>\n",
       "      <td>Kvinde</td>\n",
       "      <td>NaN</td>\n",
       "      <td>NaN</td>\n",
       "      <td>NaN</td>\n",
       "    </tr>\n",
       "  </tbody>\n",
       "</table>\n",
       "</div>"
      ],
      "text/plain": [
       "         text_id         en             da  nl  sv  no\n",
       "0  str_dashboard  Dashboard      Dashboard NaN NaN NaN\n",
       "1   str_settings   Settings  Indstillinger NaN NaN NaN\n",
       "2   str_humidity   Humidity  Luftfugtighed NaN NaN NaN\n",
       "3       str_male       Male           Mand NaN NaN NaN\n",
       "4     str_female     Female         Kvinde NaN NaN NaN"
      ]
     },
     "execution_count": 347,
     "metadata": {},
     "output_type": "execute_result"
    }
   ],
   "source": [
    "df = pd.read_csv(\"C:\\\\Users\\\\frksteenhoff\\\\Google Drive\\\\DTU - Master\\\\ClimApp\\\\climapp_translation_sheet_strings.csv\")\n",
    "df.head()"
   ]
  },
  {
   "cell_type": "markdown",
   "metadata": {},
   "source": [
    "#### **Available languages**\n",
    "NOTE: This information is used in all conversions, translations MUST be completed in the same languages for `text`, `toasts` and `wheels` for the program to work correctly.\n",
    "\n",
    "* all columns but the first contains languages, we only include those that have values for all keys.\n",
    "* If there are ANY null values within the translations, the language will be escluded. \n",
    "* It is important only to include rows with values!\n",
    "\n"
   ]
  },
  {
   "cell_type": "code",
   "execution_count": 352,
   "metadata": {
    "collapsed": false
   },
   "outputs": [
    {
     "name": "stdout",
     "output_type": "stream",
     "text": [
      "All languages in sheet:  ['en' 'da' 'nl' 'sv' 'no'] \n",
      "\n",
      "'en' translations are added correctly\n",
      "'da' translations are added correctly\n",
      "'nl' translations are MISSING VALUES\n",
      "'sv' translations are MISSING VALUES\n",
      "'no' translations are MISSING VALUES\n",
      "\n",
      "Currently available languages:  ['en', 'da']\n"
     ]
    }
   ],
   "source": [
    "# Extracting available languages from the text sheet\n",
    "\n",
    "availableLanguages = []\n",
    "\n",
    "print(\"All languages in sheet: \", df.columns[1:].values, \"\\n\")\n",
    "\n",
    "for lang in df.columns[1:]:\n",
    "    if(not pd.isnull(df[lang]).any()):\n",
    "        print(\"'\" + lang + \"' translations are added correctly\")\n",
    "        availableLanguages.append(lang)\n",
    "    else:\n",
    "        print(\"'\" + lang + \"' translations are MISSING VALUES\")\n",
    "\n",
    "print(\"\\nCurrently available languages: \", availableLanguages)"
   ]
  },
  {
   "cell_type": "markdown",
   "metadata": {},
   "source": [
    "#### Converting csv content to JSON object"
   ]
  },
  {
   "cell_type": "code",
   "execution_count": 361,
   "metadata": {
    "collapsed": true
   },
   "outputs": [],
   "source": [
    "text = convertCSVtoJSON_simple(df, availableLanguages)"
   ]
  },
  {
   "cell_type": "code",
   "execution_count": 362,
   "metadata": {
    "collapsed": false
   },
   "outputs": [
    {
     "name": "stdout",
     "output_type": "stream",
     "text": [
      "{\n",
      "    \"str_dashboard\": {\n",
      "        \"en\": \"Dashboard\",\n",
      "        \"da\": \"Dashboard\"\n",
      "    },\n",
      "    \"str_settings\": {\n",
      "        \"en\": \"Settings\",\n",
      "        \"da\": \"Indstillinger\"\n",
      "    },\n",
      "    \"str_humidity\": {\n",
      "        \"en\": \"Humidity\",\n",
      "        \"da\": \"Luftfugtighed\"\n",
      "    },\n",
      "    \"str_male\": {\n",
      "        \"en\": \"Male\",\n",
      "        \"da\": \"Mand\"\n",
      "    },\n",
      "    \"str_female\": {\n",
      "        \"en\": \"Female\",\n",
      "        \"da\": \"Kvinde\"\n",
      "    }\n",
      "}\n"
     ]
    }
   ],
   "source": [
    "print(json.dumps(text, indent=4))"
   ]
  },
  {
   "cell_type": "markdown",
   "metadata": {},
   "source": [
    "-----\n",
    "## Toasts"
   ]
  },
  {
   "cell_type": "markdown",
   "metadata": {},
   "source": [
    "#### Reading in file with toast text"
   ]
  },
  {
   "cell_type": "code",
   "execution_count": 367,
   "metadata": {
    "collapsed": true
   },
   "outputs": [],
   "source": [
    "df = pd.read_csv(\"C:\\\\Users\\\\frksteenhoff\\\\Google Drive\\\\DTU - Master\\\\ClimApp\\\\climapp_translation_sheet_toasts.csv\")"
   ]
  },
  {
   "cell_type": "markdown",
   "metadata": {},
   "source": [
    "**Showing basic content**"
   ]
  },
  {
   "cell_type": "code",
   "execution_count": 368,
   "metadata": {
    "collapsed": false
   },
   "outputs": [
    {
     "data": {
      "text/html": [
       "<div>\n",
       "<style>\n",
       "    .dataframe thead tr:only-child th {\n",
       "        text-align: right;\n",
       "    }\n",
       "\n",
       "    .dataframe thead th {\n",
       "        text-align: left;\n",
       "    }\n",
       "\n",
       "    .dataframe tbody tr th {\n",
       "        vertical-align: top;\n",
       "    }\n",
       "</style>\n",
       "<table border=\"1\" class=\"dataframe\">\n",
       "  <thead>\n",
       "    <tr style=\"text-align: right;\">\n",
       "      <th></th>\n",
       "      <th>key1</th>\n",
       "      <th>text_id</th>\n",
       "      <th>en</th>\n",
       "      <th>da</th>\n",
       "      <th>nl</th>\n",
       "      <th>sv</th>\n",
       "      <th>no</th>\n",
       "    </tr>\n",
       "  </thead>\n",
       "  <tbody>\n",
       "    <tr>\n",
       "      <th>0</th>\n",
       "      <td>toasts</td>\n",
       "      <td>toast__error</td>\n",
       "      <td>Whoops... something went wrong at:</td>\n",
       "      <td>Uups.. noget gik galt ved:</td>\n",
       "      <td>NaN</td>\n",
       "      <td>NaN</td>\n",
       "      <td>NaN</td>\n",
       "    </tr>\n",
       "    <tr>\n",
       "      <th>1</th>\n",
       "      <td>toasts</td>\n",
       "      <td>toast__toast_adv_user</td>\n",
       "      <td>After 5 uses you are now considered an experie...</td>\n",
       "      <td>Efter at du nu har brugt appen 5 gange, anses ...</td>\n",
       "      <td>NaN</td>\n",
       "      <td>NaN</td>\n",
       "      <td>NaN</td>\n",
       "    </tr>\n",
       "    <tr>\n",
       "      <th>2</th>\n",
       "      <td>toasts</td>\n",
       "      <td>toast__toast_using_default</td>\n",
       "      <td>Using default values in calculations.</td>\n",
       "      <td>Anvender standard værdier i beregninger</td>\n",
       "      <td>NaN</td>\n",
       "      <td>NaN</td>\n",
       "      <td>NaN</td>\n",
       "    </tr>\n",
       "    <tr>\n",
       "      <th>3</th>\n",
       "      <td>toasts</td>\n",
       "      <td>toast_fb_adaptation_reset</td>\n",
       "      <td>Adaptation level reset to 0</td>\n",
       "      <td>Tilpasningsniveau nustillet</td>\n",
       "      <td>NaN</td>\n",
       "      <td>NaN</td>\n",
       "      <td>NaN</td>\n",
       "    </tr>\n",
       "    <tr>\n",
       "      <th>4</th>\n",
       "      <td>toasts</td>\n",
       "      <td>toast_sett_preferences_reset</td>\n",
       "      <td>Personal preferences reset</td>\n",
       "      <td>Personlige preferencer nulstillet</td>\n",
       "      <td>NaN</td>\n",
       "      <td>NaN</td>\n",
       "      <td>NaN</td>\n",
       "    </tr>\n",
       "  </tbody>\n",
       "</table>\n",
       "</div>"
      ],
      "text/plain": [
       "     key1                       text_id  \\\n",
       "0  toasts                  toast__error   \n",
       "1  toasts         toast__toast_adv_user   \n",
       "2  toasts    toast__toast_using_default   \n",
       "3  toasts     toast_fb_adaptation_reset   \n",
       "4  toasts  toast_sett_preferences_reset   \n",
       "\n",
       "                                                  en  \\\n",
       "0                Whoops... something went wrong at:    \n",
       "1  After 5 uses you are now considered an experie...   \n",
       "2              Using default values in calculations.   \n",
       "3                        Adaptation level reset to 0   \n",
       "4                         Personal preferences reset   \n",
       "\n",
       "                                                  da  nl  sv  no  \n",
       "0                         Uups.. noget gik galt ved: NaN NaN NaN  \n",
       "1  Efter at du nu har brugt appen 5 gange, anses ... NaN NaN NaN  \n",
       "2            Anvender standard værdier i beregninger NaN NaN NaN  \n",
       "3                        Tilpasningsniveau nustillet NaN NaN NaN  \n",
       "4                  Personlige preferencer nulstillet NaN NaN NaN  "
      ]
     },
     "execution_count": 368,
     "metadata": {},
     "output_type": "execute_result"
    }
   ],
   "source": [
    "df.head()"
   ]
  },
  {
   "cell_type": "markdown",
   "metadata": {},
   "source": [
    "#### Converting csv content to JSON object"
   ]
  },
  {
   "cell_type": "code",
   "execution_count": 369,
   "metadata": {
    "collapsed": false
   },
   "outputs": [],
   "source": [
    "toasts = convertCSVtoJSON_simple(df, availableLanguages)"
   ]
  },
  {
   "cell_type": "code",
   "execution_count": 374,
   "metadata": {
    "collapsed": false
   },
   "outputs": [
    {
     "name": "stdout",
     "output_type": "stream",
     "text": [
      "{\n",
      "    \"toast__error\": {\n",
      "        \"en\": \"Whoops... something went wrong at: \",\n",
      "        \"da\": \"Uups.. noget gik galt ved:\"\n",
      "    },\n",
      "    \"toast__toast_adv_user\": {\n",
      "        \"en\": \"After 5 uses you are now considered an experienced user.\",\n",
      "        \"da\": \"Efter at du nu har brugt appen 5 gange, anses du for at v\\u00e6re en erfaren bruger.\"\n",
      "    },\n",
      "    \"toast__toast_using_default\": {\n",
      "        \"en\": \"Using default values in calculations.\",\n",
      "        \"da\": \"Anvender standard v\\u00e6rdier i beregninger\"\n",
      "    },\n",
      "    \"toast_fb_adaptation_reset\": {\n",
      "        \"en\": \"Adaptation level reset to 0\",\n",
      "        \"da\": \"Tilpasningsniveau nustillet\"\n",
      "    },\n",
      "    \"toast_sett_preferences_reset\": {\n",
      "        \"en\": \"Personal preferences reset\",\n",
      "        \"da\": \"Personlige preferencer nulstillet\"\n",
      "    },\n",
      "    \"toast_sett_acclimatized\": {\n",
      "        \"en\": \"You are acclimatized to your working environment.\",\n",
      "        \"da\": \"Du er akklimatiseret til dit arbejdsmilj\\u00f8\"\n",
      "    },\n",
      "    \"toast_sett_not_acclimatized\": {\n",
      "        \"en\": \"You are not acclimatized to your working environment.\",\n",
      "        \"da\": \"Du er ikke akklimatiseret til dit arbejdsmilj\\u00f8\"\n",
      "    },\n",
      "    \"toast_sett_notification_enabled\": {\n",
      "        \"en\": \"You are receiving notfications\",\n",
      "        \"da\": \"Du modtager nu notifikationer\"\n",
      "    },\n",
      "    \"toast_sett_notification_disabled\": {\n",
      "        \"en\": \"You will not receive notifications\",\n",
      "        \"da\": \"Du vil ikke modtage notifikationer\"\n",
      "    },\n",
      "    \"toast_loc_location_enabled\": {\n",
      "        \"en\": \"Custom location is enabled\",\n",
      "        \"da\": \"Brugerdefineret lokation sl\\u00e5et til\"\n",
      "    },\n",
      "    \"toast_loc_location_disabled\": {\n",
      "        \"en\": \"Custom location is disabled\",\n",
      "        \"da\": \"Brugerdefineret lokation sl\\u00e5et fra\"\n",
      "    },\n",
      "    \"toast_indoor_indoor_enabled\": {\n",
      "        \"en\": \"Indoor mode enabled\",\n",
      "        \"da\": \"Indend\\u00f8rs tilstand sl\\u00e5et til\"\n",
      "    },\n",
      "    \"toast_indoor_indoor_disabled\": {\n",
      "        \"en\": \"Indoor mode disabled\",\n",
      "        \"da\": \"Indend\\u00f8rs tilstand sl\\u00e5et fra\"\n",
      "    },\n",
      "    \"toast_dash_kb_updated\": {\n",
      "        \"en\": \"Knowledgebase updated to version: \",\n",
      "        \"da\": \"Vidensbase opdateret til:\"\n",
      "    },\n",
      "    \"toast_dash_kb_loaded\": {\n",
      "        \"en\": \"Loaded knowledgebase version: \",\n",
      "        \"da\": \"Vidensbase indl\\u00e6st, version:\"\n",
      "    },\n",
      "    \"toast_dash_kb_created\": {\n",
      "        \"en\": \"Created knowledge base version: \",\n",
      "        \"da\": \"Oprettet vidensbase, version:\"\n",
      "    },\n",
      "    \"toast_dash_no_location\": {\n",
      "        \"en\": \"Could not retrieve location\",\n",
      "        \"da\": \"Kunne ikke hente lokation\"\n",
      "    },\n",
      "    \"toast_dash_weather_fail\": {\n",
      "        \"en\": \"Failed to update weather\",\n",
      "        \"da\": \"Kunne ikke opdatere vejrinformation\"\n",
      "    }\n",
      "}\n"
     ]
    }
   ],
   "source": [
    "print(json.dumps(toasts, indent=4))"
   ]
  },
  {
   "cell_type": "markdown",
   "metadata": {},
   "source": [
    "----\n",
    "## Wheels"
   ]
  },
  {
   "cell_type": "markdown",
   "metadata": {},
   "source": [
    "#### Reading in file with wheels text"
   ]
  },
  {
   "cell_type": "code",
   "execution_count": 364,
   "metadata": {
    "collapsed": false
   },
   "outputs": [
    {
     "data": {
      "text/html": [
       "<div>\n",
       "<style>\n",
       "    .dataframe thead tr:only-child th {\n",
       "        text-align: right;\n",
       "    }\n",
       "\n",
       "    .dataframe thead th {\n",
       "        text-align: left;\n",
       "    }\n",
       "\n",
       "    .dataframe tbody tr th {\n",
       "        vertical-align: top;\n",
       "    }\n",
       "</style>\n",
       "<table border=\"1\" class=\"dataframe\">\n",
       "  <thead>\n",
       "    <tr style=\"text-align: right;\">\n",
       "      <th></th>\n",
       "      <th>text_id</th>\n",
       "      <th>key2</th>\n",
       "      <th>key3</th>\n",
       "      <th>en</th>\n",
       "      <th>da</th>\n",
       "      <th>nl</th>\n",
       "      <th>sv</th>\n",
       "      <th>no</th>\n",
       "    </tr>\n",
       "  </thead>\n",
       "  <tbody>\n",
       "    <tr>\n",
       "      <th>0</th>\n",
       "      <td>activity</td>\n",
       "      <td>title</td>\n",
       "      <td>NaN</td>\n",
       "      <td>What is your activity level?</td>\n",
       "      <td>Hvad er dit aktivitetsniveau?</td>\n",
       "      <td>NaN</td>\n",
       "      <td>NaN</td>\n",
       "      <td>NaN</td>\n",
       "    </tr>\n",
       "    <tr>\n",
       "      <th>1</th>\n",
       "      <td>activity</td>\n",
       "      <td>description</td>\n",
       "      <td>rest</td>\n",
       "      <td>Resting, sitting at ease.\\nBreathing not chall...</td>\n",
       "      <td>Hviler, sidder i ro. Vejrtrækning ikke udfordret</td>\n",
       "      <td>NaN</td>\n",
       "      <td>NaN</td>\n",
       "      <td>NaN</td>\n",
       "    </tr>\n",
       "    <tr>\n",
       "      <th>2</th>\n",
       "      <td>activity</td>\n",
       "      <td>description</td>\n",
       "      <td>light</td>\n",
       "      <td>Light manual work:\\nwriting, typing, drawing, ...</td>\n",
       "      <td>Let manuelt arbejde: skrive, taste, tegne, bog...</td>\n",
       "      <td>NaN</td>\n",
       "      <td>NaN</td>\n",
       "      <td>NaN</td>\n",
       "    </tr>\n",
       "    <tr>\n",
       "      <th>3</th>\n",
       "      <td>activity</td>\n",
       "      <td>description</td>\n",
       "      <td>medium</td>\n",
       "      <td>Walking 2.5 - 5.5km/h. Sustained arm and hand ...</td>\n",
       "      <td>Bevægelse 2.5-5.5 km/t. Vedvarende arm og hånd...</td>\n",
       "      <td>NaN</td>\n",
       "      <td>NaN</td>\n",
       "      <td>NaN</td>\n",
       "    </tr>\n",
       "    <tr>\n",
       "      <th>4</th>\n",
       "      <td>activity</td>\n",
       "      <td>description</td>\n",
       "      <td>high</td>\n",
       "      <td>Intense arm and trunk work: carrying heavy mat...</td>\n",
       "      <td>Intens aktivitet: bære tungt materiale, skovle...</td>\n",
       "      <td>NaN</td>\n",
       "      <td>NaN</td>\n",
       "      <td>NaN</td>\n",
       "    </tr>\n",
       "  </tbody>\n",
       "</table>\n",
       "</div>"
      ],
      "text/plain": [
       "    text_id         key2    key3  \\\n",
       "0  activity        title     NaN   \n",
       "1  activity  description    rest   \n",
       "2  activity  description   light   \n",
       "3  activity  description  medium   \n",
       "4  activity  description    high   \n",
       "\n",
       "                                                  en  \\\n",
       "0                       What is your activity level?   \n",
       "1  Resting, sitting at ease.\\nBreathing not chall...   \n",
       "2  Light manual work:\\nwriting, typing, drawing, ...   \n",
       "3  Walking 2.5 - 5.5km/h. Sustained arm and hand ...   \n",
       "4  Intense arm and trunk work: carrying heavy mat...   \n",
       "\n",
       "                                                  da  nl  sv  no  \n",
       "0                      Hvad er dit aktivitetsniveau? NaN NaN NaN  \n",
       "1   Hviler, sidder i ro. Vejrtrækning ikke udfordret NaN NaN NaN  \n",
       "2  Let manuelt arbejde: skrive, taste, tegne, bog... NaN NaN NaN  \n",
       "3  Bevægelse 2.5-5.5 km/t. Vedvarende arm og hånd... NaN NaN NaN  \n",
       "4  Intens aktivitet: bære tungt materiale, skovle... NaN NaN NaN  "
      ]
     },
     "execution_count": 364,
     "metadata": {},
     "output_type": "execute_result"
    }
   ],
   "source": [
    "df = pd.read_csv(\"C:\\\\Users\\\\frksteenhoff\\\\Google Drive\\\\DTU - Master\\\\ClimApp\\\\climapp_translation_sheet_wheels.csv\")\n",
    "df.head()"
   ]
  },
  {
   "cell_type": "markdown",
   "metadata": {},
   "source": [
    "#### Converting csv content to JSON object"
   ]
  },
  {
   "cell_type": "code",
   "execution_count": 365,
   "metadata": {
    "collapsed": true
   },
   "outputs": [],
   "source": [
    "wheels = convertCSVtoJSON_nested(df, availableLanguages)"
   ]
  },
  {
   "cell_type": "code",
   "execution_count": 366,
   "metadata": {
    "collapsed": false,
    "scrolled": true
   },
   "outputs": [
    {
     "name": "stdout",
     "output_type": "stream",
     "text": [
      "{\n",
      "    \"activity\": {\n",
      "        \"title\": {\n",
      "            \"en\": \"What is your activity level?\",\n",
      "            \"da\": \"Hvad er dit aktivitetsniveau?\"\n",
      "        },\n",
      "        \"description\": {\n",
      "            \"rest\": {\n",
      "                \"en\": \"Resting, sitting at ease.\\\\nBreathing not challenged.\",\n",
      "                \"da\": \"Hviler, sidder i ro. Vejrtr\\u00e6kning ikke udfordret\"\n",
      "            },\n",
      "            \"light\": {\n",
      "                \"en\": \"Light manual work:\\\\nwriting, typing, drawing, book-keeping.\\\\nEasy to breathe and carry on a conversation.\",\n",
      "                \"da\": \"Let manuelt arbejde: skrive, taste, tegne, bogf\\u00f8ring. Nemt at tr\\u00e6kke vejret og f\\u00f8re en samtale\"\n",
      "            },\n",
      "            \"medium\": {\n",
      "                \"en\": \"Walking 2.5 - 5.5km/h. Sustained arm and hand work: handling moderately heavy machinery, weeding, picking fruits.\",\n",
      "                \"da\": \"Bev\\u00e6gelse 2.5-5.5 km/t. Vedvarende arm og h\\u00e5ndarbejde: h\\u00e5ndtering af moderat tungt maskineri, plukning af ukrudt eller frugter.\"\n",
      "            },\n",
      "            \"high\": {\n",
      "                \"en\": \"Intense arm and trunk work: carrying heavy material, shovelling, sawing, hand mowing, concrete block laying.\",\n",
      "                \"da\": \"Intens aktivitet: b\\u00e6re tungt materiale, skovle, save, sl\\u00e5 gr\\u00e6s, l\\u00e6gge brosten.\"\n",
      "            },\n",
      "            \"intense\": {\n",
      "                \"en\": \"Very intense activity at fast maximum pace:\\\\nworking with an ax, climbing stairs, running on level surface.\",\n",
      "                \"da\": \"Meget intens aktivitet ved maksimalt tempo: \\\\n arbejde med en \\u00f8kse, g\\u00e5 i trapper, l\\u00f8b p\\u00e5 plan overflade.\"\n",
      "            }\n",
      "        },\n",
      "        \"label\": {\n",
      "            \"rest\": {\n",
      "                \"en\": \"Rest \",\n",
      "                \"da\": \"Hvile\"\n",
      "            },\n",
      "            \"light\": {\n",
      "                \"en\": \"Light \",\n",
      "                \"da\": \"Let\"\n",
      "            },\n",
      "            \"medium\": {\n",
      "                \"en\": \"Medium\",\n",
      "                \"da\": \"Medium\"\n",
      "            },\n",
      "            \"high\": {\n",
      "                \"en\": \"High\",\n",
      "                \"da\": \"H\\u00f8j\"\n",
      "            },\n",
      "            \"intense\": {\n",
      "                \"en\": \"Intense\",\n",
      "                \"da\": \"Intens\"\n",
      "            }\n",
      "        }\n",
      "    },\n",
      "    \"clothing\": {\n",
      "        \"label\": {\n",
      "            \"rest\": {\n",
      "                \"en\": \"Rest \",\n",
      "                \"da\": \"Hvile\"\n",
      "            },\n",
      "            \"light\": {\n",
      "                \"en\": \"Light \",\n",
      "                \"da\": \"Let\"\n",
      "            },\n",
      "            \"medium\": {\n",
      "                \"en\": \"Medium\",\n",
      "                \"da\": \"Medium\"\n",
      "            },\n",
      "            \"high\": {\n",
      "                \"en\": \"High\",\n",
      "                \"da\": \"H\\u00f8j\"\n",
      "            },\n",
      "            \"intense\": {\n",
      "                \"en\": \"Intense\",\n",
      "                \"da\": \"Intens\"\n",
      "            }\n",
      "        }\n",
      "    }\n",
      "}\n"
     ]
    }
   ],
   "source": [
    "# Use to check the result\n",
    "print(json.dumps(wheels, indent=4))"
   ]
  },
  {
   "cell_type": "markdown",
   "metadata": {},
   "source": [
    "## Combining all information in one JSON object"
   ]
  },
  {
   "cell_type": "code",
   "execution_count": 297,
   "metadata": {
    "collapsed": false
   },
   "outputs": [],
   "source": [
    "combined_object = {\"text\" : text, \"wheels\" : wheels, \"toasts\" :toasts}"
   ]
  },
  {
   "cell_type": "code",
   "execution_count": 298,
   "metadata": {
    "collapsed": false
   },
   "outputs": [
    {
     "name": "stdout",
     "output_type": "stream",
     "text": [
      "{\n",
      "    \"text\": {\n",
      "        \"str_dashboard\": {\n",
      "            \"en\": \"Dashboard\",\n",
      "            \"da\": \"Dashboard\"\n",
      "        },\n",
      "        \"str_settings\": {\n",
      "            \"en\": \"Settings\",\n",
      "            \"da\": \"Indstillinger\"\n",
      "        },\n",
      "        \"str_humidity\": {\n",
      "            \"en\": \"Humidity\",\n",
      "            \"da\": \"Luftfugtighed\"\n",
      "        },\n",
      "        \"str_male\": {\n",
      "            \"en\": \"Male\",\n",
      "            \"da\": \"Mand\"\n",
      "        },\n",
      "        \"str_female\": {\n",
      "            \"en\": \"Female\",\n",
      "            \"da\": \"Kvinde\"\n",
      "        }\n",
      "    },\n",
      "    \"wheels\": {\n",
      "        \"activity\": {\n",
      "            \"title\": {\n",
      "                \"en\": \"What is your activity level?\",\n",
      "                \"da\": \"Hvad er dit aktivitetsniveau?\"\n",
      "            },\n",
      "            \"description\": {\n",
      "                \"rest\": {\n",
      "                    \"en\": \"Resting, sitting at ease.\\\\nBreathing not challenged.\",\n",
      "                    \"da\": \"Hviler, sidder i ro. Vejrtr\\u00e6kning ikke udfordret\"\n",
      "                },\n",
      "                \"light\": {\n",
      "                    \"en\": \"Light manual work:\\\\nwriting, typing, drawing, book-keeping.\\\\nEasy to breathe and carry on a conversation.\",\n",
      "                    \"da\": \"Let manuelt arbejde: skrive, taste, tegne, bogf\\u00f8ring. Nemt at tr\\u00e6kke vejret og f\\u00f8re en samtale\"\n",
      "                },\n",
      "                \"medium\": {\n",
      "                    \"en\": \"Walking 2.5 - 5.5km/h. Sustained arm and hand work: handling moderately heavy machinery, weeding, picking fruits.\",\n",
      "                    \"da\": \"Bev\\u00e6gelse 2.5-5.5 km/t. Vedvarende arm og h\\u00e5ndarbejde: h\\u00e5ndtering af moderat tungt maskineri, plukning af ukrudt eller frugter.\"\n",
      "                },\n",
      "                \"high\": {\n",
      "                    \"en\": \"Intense arm and trunk work: carrying heavy material, shovelling, sawing, hand mowing, concrete block laying.\",\n",
      "                    \"da\": \"Intens aktivitet: b\\u00e6re tungt materiale, skovle, save, sl\\u00e5 gr\\u00e6s, l\\u00e6gge brosten.\"\n",
      "                },\n",
      "                \"intense\": {\n",
      "                    \"en\": \"Very intense activity at fast maximum pace:\\\\nworking with an ax, climbing stairs, running on level surface.\",\n",
      "                    \"da\": \"Meget intens aktivitet ved maksimalt tempo: \\\\n arbejde med en \\u00f8kse, g\\u00e5 i trapper, l\\u00f8b p\\u00e5 plan overflade.\"\n",
      "                }\n",
      "            },\n",
      "            \"label\": {\n",
      "                \"rest\": {\n",
      "                    \"en\": \"Rest \",\n",
      "                    \"da\": \"Hvile\"\n",
      "                },\n",
      "                \"light\": {\n",
      "                    \"en\": \"Light \",\n",
      "                    \"da\": \"Let\"\n",
      "                },\n",
      "                \"medium\": {\n",
      "                    \"en\": \"Medium\",\n",
      "                    \"da\": \"Medium\"\n",
      "                },\n",
      "                \"high\": {\n",
      "                    \"en\": \"High\",\n",
      "                    \"da\": \"H\\u00f8j\"\n",
      "                },\n",
      "                \"intense\": {\n",
      "                    \"en\": \"Intense\",\n",
      "                    \"da\": \"Intens\"\n",
      "                }\n",
      "            }\n",
      "        },\n",
      "        \"clothing\": {\n",
      "            \"label\": {\n",
      "                \"rest\": {\n",
      "                    \"en\": \"Rest \",\n",
      "                    \"da\": \"Hvile\"\n",
      "                },\n",
      "                \"light\": {\n",
      "                    \"en\": \"Light \",\n",
      "                    \"da\": \"Let\"\n",
      "                },\n",
      "                \"medium\": {\n",
      "                    \"en\": \"Medium\",\n",
      "                    \"da\": \"Medium\"\n",
      "                },\n",
      "                \"high\": {\n",
      "                    \"en\": \"High\",\n",
      "                    \"da\": \"H\\u00f8j\"\n",
      "                },\n",
      "                \"intense\": {\n",
      "                    \"en\": \"Intense\",\n",
      "                    \"da\": \"Intens\"\n",
      "                }\n",
      "            }\n",
      "        }\n",
      "    },\n",
      "    \"toasts\": {\n",
      "        \"toast__error\": {\n",
      "            \"en\": \"Whoops... something went wrong at: \",\n",
      "            \"da\": \"Uups.. noget gik galt ved:\"\n",
      "        },\n",
      "        \"toast__toast_adv_user\": {\n",
      "            \"en\": \"After 5 uses you are now considered an experienced user.\",\n",
      "            \"da\": \"Efter at du nu har brugt appen 5 gange, anses du for at v\\u00e6re en erfaren bruger.\"\n",
      "        },\n",
      "        \"toast__toast_using_default\": {\n",
      "            \"en\": \"Using default values in calculations.\",\n",
      "            \"da\": \"Anvender standard v\\u00e6rdier i beregninger\"\n",
      "        },\n",
      "        \"toast_fb_adaptation_reset\": {\n",
      "            \"en\": \"Adaptation level reset to 0\",\n",
      "            \"da\": \"Tilpasningsniveau nustillet\"\n",
      "        },\n",
      "        \"toast_sett_preferences_reset\": {\n",
      "            \"en\": \"Personal preferences reset\",\n",
      "            \"da\": \"Personlige preferencer nulstillet\"\n",
      "        },\n",
      "        \"toast_sett_acclimatized\": {\n",
      "            \"en\": \"You are acclimatized to your working environment.\",\n",
      "            \"da\": \"Du er akklimatiseret til dit arbejdsmilj\\u00f8\"\n",
      "        },\n",
      "        \"toast_sett_not_acclimatized\": {\n",
      "            \"en\": \"You are not acclimatized to your working environment.\",\n",
      "            \"da\": \"Du er ikke akklimatiseret til dit arbejdsmilj\\u00f8\"\n",
      "        },\n",
      "        \"toast_sett_notification_enabled\": {\n",
      "            \"en\": \"You are receiving notfications\",\n",
      "            \"da\": \"Du modtager nu notifikationer\"\n",
      "        },\n",
      "        \"toast_sett_notification_disabled\": {\n",
      "            \"en\": \"You will not receive notifications\",\n",
      "            \"da\": \"Du vil ikke modtage notifikationer\"\n",
      "        },\n",
      "        \"toast_loc_location_enabled\": {\n",
      "            \"en\": \"Custom location is enabled\",\n",
      "            \"da\": \"Brugerdefineret lokation sl\\u00e5et til\"\n",
      "        },\n",
      "        \"toast_loc_location_disabled\": {\n",
      "            \"en\": \"Custom location is disabled\",\n",
      "            \"da\": \"Brugerdefineret lokation sl\\u00e5et fra\"\n",
      "        },\n",
      "        \"toast_indoor_indoor_enabled\": {\n",
      "            \"en\": \"Indoor mode enabled\",\n",
      "            \"da\": \"Indend\\u00f8rs tilstand sl\\u00e5et til\"\n",
      "        },\n",
      "        \"toast_indoor_indoor_disabled\": {\n",
      "            \"en\": \"Indoor mode disabled\",\n",
      "            \"da\": \"Indend\\u00f8rs tilstand sl\\u00e5et fra\"\n",
      "        },\n",
      "        \"toast_dash_kb_updated\": {\n",
      "            \"en\": \"Knowledgebase updated to version: \",\n",
      "            \"da\": \"Vidensbase opdateret til:\"\n",
      "        },\n",
      "        \"toast_dash_kb_loaded\": {\n",
      "            \"en\": \"Loaded knowledgebase version: \",\n",
      "            \"da\": \"Vidensbase indl\\u00e6st, version:\"\n",
      "        },\n",
      "        \"toast_dash_kb_created\": {\n",
      "            \"en\": \"Created knowledge base version: \",\n",
      "            \"da\": \"Oprettet vidensbase, version:\"\n",
      "        },\n",
      "        \"toast_dash_no_location\": {\n",
      "            \"en\": \"Could not retrieve location\",\n",
      "            \"da\": \"Kunne ikke hente lokation\"\n",
      "        },\n",
      "        \"toast_dash_weather_fail\": {\n",
      "            \"en\": \"Failed to update weather\",\n",
      "            \"da\": \"Kunne ikke opdatere vejrinformation\"\n",
      "        }\n",
      "    }\n",
      "}\n"
     ]
    }
   ],
   "source": [
    "print(json.dumps(combined_object, indent=4))"
   ]
  },
  {
   "cell_type": "markdown",
   "metadata": {
    "collapsed": true
   },
   "source": [
    "### Saving the above struture to a .JSON file"
   ]
  },
  {
   "cell_type": "code",
   "execution_count": 299,
   "metadata": {
    "collapsed": true
   },
   "outputs": [],
   "source": [
    "with open('C:\\\\Users\\\\frksteenhoff\\\\Google Drive\\\\DTU - Master\\\\ClimApp\\\\translations.json', 'w') as f:\n",
    "    json.dump(combined_object, f)"
   ]
  },
  {
   "cell_type": "code",
   "execution_count": null,
   "metadata": {
    "collapsed": true
   },
   "outputs": [],
   "source": []
  }
 ],
 "metadata": {
  "kernelspec": {
   "display_name": "Python [py36]",
   "language": "python",
   "name": "Python [py36]"
  },
  "language_info": {
   "codemirror_mode": {
    "name": "ipython",
    "version": 3
   },
   "file_extension": ".py",
   "mimetype": "text/x-python",
   "name": "python",
   "nbconvert_exporter": "python",
   "pygments_lexer": "ipython3",
   "version": "3.6.1"
  }
 },
 "nbformat": 4,
 "nbformat_minor": 2
}
