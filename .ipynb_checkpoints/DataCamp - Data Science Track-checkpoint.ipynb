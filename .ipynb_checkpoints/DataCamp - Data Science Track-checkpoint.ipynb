{
 "cells": [
  {
   "cell_type": "markdown",
   "metadata": {},
   "source": [
    "# Python\n",
    "Notes from Data Scientist Track by [DataCamp](www.datacamp.org)"
   ]
  },
  {
   "cell_type": "markdown",
   "metadata": {},
   "source": [
    "## Functions\n",
    "### Docstrings\n",
    "* Describe functionality\n",
    "* Serves as documentation\n",
    "* Placed in immidiate line after function header using triple double quotes `\"\"\"` "
   ]
  },
  {
   "cell_type": "code",
   "execution_count": 17,
   "metadata": {
    "collapsed": true
   },
   "outputs": [],
   "source": [
    "def foo(input):\n",
    "    \"\"\"Return input as triple.\"\"\"\n",
    "    return input, input, input"
   ]
  },
  {
   "cell_type": "code",
   "execution_count": 18,
   "metadata": {
    "collapsed": false
   },
   "outputs": [
    {
     "data": {
      "text/plain": [
       "(555, 555, 555)"
      ]
     },
     "execution_count": 18,
     "metadata": {},
     "output_type": "execute_result"
    }
   ],
   "source": [
    "foo(555)"
   ]
  },
  {
   "cell_type": "markdown",
   "metadata": {},
   "source": [
    "### Multiple parameters"
   ]
  },
  {
   "cell_type": "code",
   "execution_count": null,
   "metadata": {
    "collapsed": true
   },
   "outputs": [],
   "source": []
  },
  {
   "cell_type": "markdown",
   "metadata": {},
   "source": [
    "### Extract into several parameters (if more than one output)"
   ]
  },
  {
   "cell_type": "code",
   "execution_count": 6,
   "metadata": {
    "collapsed": true
   },
   "outputs": [],
   "source": [
    "in1, in2, in3 = foo(\"hi\")"
   ]
  },
  {
   "cell_type": "code",
   "execution_count": 8,
   "metadata": {
    "collapsed": false
   },
   "outputs": [
    {
     "name": "stdout",
     "output_type": "stream",
     "text": [
      "hi hi hi\n"
     ]
    }
   ],
   "source": [
    "print in1, in2, in3"
   ]
  },
  {
   "cell_type": "code",
   "execution_count": 26,
   "metadata": {
    "collapsed": false
   },
   "outputs": [],
   "source": [
    "def testing_func_default_arg(a, b, c=6):\n",
    "    \"\"\"Params a and b have to be explicitly stated when \n",
    "    ...declaring function, c can be omitted or given another value.\"\"\"\n",
    "    return a + b + c     "
   ]
  },
  {
   "cell_type": "code",
   "execution_count": 27,
   "metadata": {
    "collapsed": false
   },
   "outputs": [
    {
     "data": {
      "text/plain": [
       "11"
      ]
     },
     "execution_count": 27,
     "metadata": {},
     "output_type": "execute_result"
    }
   ],
   "source": [
    "# c using default value    \n",
    "testing_func_default_arg(4,5)\n",
    "\n",
    "# c given new value\n",
    "testing_func_default_arg(1,2,8)"
   ]
  },
  {
   "cell_type": "markdown",
   "metadata": {},
   "source": [
    "#### In relation to ClimApp"
   ]
  },
  {
   "cell_type": "code",
   "execution_count": 32,
   "metadata": {
    "collapsed": false
   },
   "outputs": [],
   "source": [
    "def wgbt_calculation(gender, age, weight, height, fitness_level=2):\n",
    "    \"\"\"Calculate WGBT based on input parameters, return personal index\"\"\"\n",
    "    wgbt = 0.0\n",
    "    bmi = float(weight)/(float(height**2))\n",
    "    \n",
    "    if gender == \"F\":\n",
    "        wgbt = age * bmi * fitness_level * 2\n",
    "    elif gender == \"M\":\n",
    "        wgbt = age * bmi * fitness_level\n",
    "    else:\n",
    "        \"Nothing implemented\"\n",
    "    \n",
    "    return wgbt"
   ]
  },
  {
   "cell_type": "code",
   "execution_count": 33,
   "metadata": {
    "collapsed": false
   },
   "outputs": [
    {
     "data": {
      "text/plain": [
       "0.10370370370370369"
      ]
     },
     "execution_count": 33,
     "metadata": {},
     "output_type": "execute_result"
    }
   ],
   "source": [
    "wgbt_calculation(\"F\", 12, 70, 180)"
   ]
  },
  {
   "cell_type": "code",
   "execution_count": null,
   "metadata": {
    "collapsed": true
   },
   "outputs": [],
   "source": []
  }
 ],
 "metadata": {
  "anaconda-cloud": {},
  "kernelspec": {
   "display_name": "Python [Root]",
   "language": "python",
   "name": "Python [Root]"
  },
  "language_info": {
   "codemirror_mode": {
    "name": "ipython",
    "version": 2
   },
   "file_extension": ".py",
   "mimetype": "text/x-python",
   "name": "python",
   "nbconvert_exporter": "python",
   "pygments_lexer": "ipython2",
   "version": "2.7.12"
  }
 },
 "nbformat": 4,
 "nbformat_minor": 2
}
