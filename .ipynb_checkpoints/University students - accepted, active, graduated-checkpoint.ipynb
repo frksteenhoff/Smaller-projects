{
 "cells": [
  {
   "cell_type": "markdown",
   "metadata": {},
   "source": [
    "# <span style=\"color: darkred;\">Key numbers on master students: accepted, active, graduated</span>"
   ]
  },
  {
   "cell_type": "markdown",
   "metadata": {},
   "source": [
    "----\n",
    "## <span style=\"color: darkred;\">Relevant lines of study</span>\n",
    "### <span style=\"color: darkred;\">DTU</span> \n",
    "#### Bachelor (not relevant here)\n",
    "  * Softwareteknologi\n",
    "  * Matematik og Teknologi\n",
    "  * Netværksteknologi og IT \n",
    "  \n",
    "#### Master\n",
    "  * Informationsteknologi\n",
    "  * Kommunikationsteknologier og systemdesign (TelKom)\n",
    "  * Matematisk modellering og computing\n",
    "  * Menneskeorienteret kunstig intelligens (DigMedTeK)\n",
    "  \n",
    "## <span style=\"color: darkred;\">ITU</span>\n",
    "  * Softwaredesign\n",
    "  * Datalogi\n",
    "\n",
    "## <span style=\"color: darkred;\">KU</span>\n",
    "  * Datalogi\n",
    "  * IT og Kognition\n",
    "  * Kommunikation og IT\n",
    "  \n",
    "---"
   ]
  },
  {
   "cell_type": "markdown",
   "metadata": {},
   "source": [
    "## <span style=\"color: darkred;\">Danmarks Tekniske Universitet, DTU</span>\n",
    "\n",
    "DTU has a student data ware house with all needed information for all years since the different lines of study were created, you can play with the data here:\n",
    "\n",
    "### Accepted students:\n",
    "* http://dtu-studiedatavarehus.ait.dtu.dk/vis_noegletal_optag.aspx?aar=0&sem=0&udd=5&ret=4,5,21,1934&kon=Alle&alder=0&nt=0&vd=0&land=0&region=0&kv=0&eks=0\n",
    "\n",
    "### Active students:\n",
    "* http://dtu-studiedatavarehus.ait.dtu.dk/vis_noegletal_bestand.aspx?aar=0&ret=607,108,102,5006&udd=5&kon=Alle&alder=0&nt=0&vd=0&land=0&region=&kv=0&eks=\n",
    "\n",
    "### Graduates: \n",
    "* http://dtu-studiedatavarehus.ait.dtu.dk/vis_noegletal_faerdige.aspx?aar=0&ret=116,628,1126,1769&udd=5&kon=Alle&alder=0&nt=0&vd=0&land=0&region=&kv=0&eks=&stud=0\n",
    "  \n",
    "---"
   ]
  },
  {
   "cell_type": "markdown",
   "metadata": {},
   "source": [
    "## <span style=\"color: darkred;\">ITU Universitet, ITU</span> \n",
    "### Acccepted students\n",
    "\n",
    "### Active students\n",
    "\n",
    "### Graduates\n",
    "\n",
    "---"
   ]
  },
  {
   "cell_type": "code",
   "execution_count": null,
   "metadata": {
    "collapsed": true
   },
   "outputs": [],
   "source": []
  },
  {
   "cell_type": "markdown",
   "metadata": {},
   "source": [
    "## <span style=\"color: darkred;\">Københavns Universitet, KU</span> \n",
    "### Bachelor\n",
    "#### Acccepted students (2019)\n",
    "* Datalogi : 214\n",
    "* Kommunikation og IT: 87\n",
    "\n",
    "#### Active students (2019)\n",
    "* Datalogi : 88 (kvinder) + 572 (mænd) = 660\n",
    "* Kommunikation og IT: 135 (kvinder) + 77 (mænd) = 212\n",
    "\n",
    "#### Graduates (2019)\n",
    "* Datalogi: 104\n",
    "* Kommunikation og IT: 59\n",
    "\n",
    "### Master\n",
    "#### Acccepted students (2019)\n",
    "* Datalogi : 116 (16 med optag forår)\n",
    "* It og Kognition: 34\n",
    "* Kommunikation og IT: 53 (2 med optag forår)\n",
    "\n",
    "#### Active students (2019)\n",
    "* Datalogi : 31 (kvinder) + 219 (mænd) = 250\n",
    "* It og Kognition: 36 (kvinder + 48 (mønd) = 84\n",
    "* Kommunikation og IT: 74 (kvinder) + 55 (mænd) = 129\n",
    "\n",
    "#### Graduates (2019)\n",
    "* Datalogi: 67\n",
    "* Kommunikation og IT: 49\n",
    "* IT og kognition: 33\n",
    "\n",
    "---"
   ]
  },
  {
   "cell_type": "code",
   "execution_count": null,
   "metadata": {
    "collapsed": true
   },
   "outputs": [],
   "source": []
  }
 ],
 "metadata": {
  "kernelspec": {
   "display_name": "Python [py36]",
   "language": "python",
   "name": "Python [py36]"
  },
  "language_info": {
   "codemirror_mode": {
    "name": "ipython",
    "version": 3
   },
   "file_extension": ".py",
   "mimetype": "text/x-python",
   "name": "python",
   "nbconvert_exporter": "python",
   "pygments_lexer": "ipython3",
   "version": "3.6.1"
  }
 },
 "nbformat": 4,
 "nbformat_minor": 2
}
