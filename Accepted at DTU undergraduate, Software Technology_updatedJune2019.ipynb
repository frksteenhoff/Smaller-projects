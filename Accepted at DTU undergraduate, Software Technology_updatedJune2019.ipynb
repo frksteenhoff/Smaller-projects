{
 "cells": [
  {
   "cell_type": "markdown",
   "metadata": {},
   "source": [
    "# Key numbers on acceptance @ The Technical University of Denmark (DTU)\n",
    "<p style=\"font-size: 20px; line-height: 26pt\">Students accepted in field of study: software technology (computer science), and mathematics and technology undergraduate.</p>\n",
    "\n",
    "Analysis created by Henriette Steenhoff, s134869\n",
    "\n",
    "----\n",
    "![start_screen.png](start_screen_2019.PNG)\n",
    "\n",
    "<p style=\"font-size: 20px; line-height: 26pt\">See how these statistics where previous year (tracking started in 2018)</p>\n",
    "\n",
    "| Category | 2018 | 2019 | 2020 |\n",
    "|---|---|---|---|\n",
    "| Women in CS @ DTU       | 31   | 37   | - |\n",
    "| Women graduating yearly | 1.5  | 1.85 | - |\n",
    "| Women graduated in all  | 20   | 26   | - |\n",
    "\n",
    "\n",
    "Previous images:\n",
    "* Link to 2018 image: [2018](start_screen_2018.PNG)"
   ]
  },
  {
   "cell_type": "markdown",
   "metadata": {},
   "source": [
    "----\n",
    "# Basics\n",
    "\n",
    "<p style=\"font-size: 20px; line-height: 26pt\">All work here is based on data from the [DTU Study Data Warehouse](http://dtu-studiedatavarehus.ait.dtu.dk/Default.aspx) -- sadly this site is only available in Danish.</p>\n",
    "\n",
    "<p style=\"font-size: 20px; line-height: 26pt\">The fun starts in the [Plotting](#Plotting) section -- fast forward to this point if you are less interested in all the nitty gritty details.</p>\n",
    "\n",
    "----"
   ]
  },
  {
   "cell_type": "markdown",
   "metadata": {},
   "source": [
    "# Prerequisite "
   ]
  },
  {
   "cell_type": "code",
   "execution_count": 3,
   "metadata": {},
   "outputs": [],
   "source": [
    "# IMPORTS\n",
    "import re\n",
    "from urllib.request import urlopen\n",
    "import json\n",
    "import numpy as np\n",
    "import pandas as pd\n",
    "\n",
    "# Plotting tools\n",
    "import plotly \n",
    "from IPython.display import Image \n",
    "import plotly.plotly as py\n",
    "import plotly.graph_objs as go\n",
    "\n",
    "# credentials from json file\n",
    "with open(\"plotly_credentials.json\", \"r\") as file:  \n",
    "    creds = json.load(file)\n",
    "\n",
    "# API access to plotting tools\n",
    "plotly.tools.set_credentials_file(username=creds['username'], api_key =creds['password'])\n",
    "import matplotlib.pyplot as plt\n",
    "%matplotlib inline\n",
    "\n",
    "# QUERY FOR HISTORIC DATA ON ACCEPTANCE, SOFTWARE TECHNOLOGY\n",
    "request_url = 'http://dtu-studiedatavarehus.ait.dtu.dk/vis_noegletal_optag.aspx?aar=0&sem=e&udd=1&ret=12&kon=Alle&alder=0&nt=0&vd=0&land=0&region=0&kv=0&eks=0'\n",
    "\n",
    "response = urlopen(request_url)\n",
    "#temp_data = json.load(response)"
   ]
  },
  {
   "cell_type": "markdown",
   "metadata": {},
   "source": [
    "I was hoping to be able to fetch all the data from the webpage with urllib in order to make the fetching of data easier. Because of the website setup this is more work than what I had time to."
   ]
  },
  {
   "cell_type": "code",
   "execution_count": 4,
   "metadata": {},
   "outputs": [
    {
     "data": {
      "text/plain": [
       "b'\\r\\n\\r\\n<!DOCTYPE html PUBLIC \"-//W3C//DTD XHTML 1.0 Transitional//EN\" \"http://www.w3.org/TR/xhtml1/DTD/'"
      ]
     },
     "execution_count": 4,
     "metadata": {},
     "output_type": "execute_result"
    }
   ],
   "source": [
    "# Fetching data directly from webpage works poorly -- only as instance, not object\n",
    "# The information is available and can be fetched, but it requires one hell of a regular expression.\n",
    "response.read(100)"
   ]
  },
  {
   "cell_type": "markdown",
   "metadata": {},
   "source": [
    "----\n",
    "# Key numbers\n",
    "<p style=\"font-size: 20px; line-height: 26pt\">If you want to have a look at the numbers yourself directly in the database, follow the links below.</p>\n",
    "\n",
    "<p style=\"font-size: 20px; line-height: 26pt\">**Before you get started:**</p>\n",
    "\n",
    "<p style=\"font-size: 20px; line-height: 26pt\">In both URLs above I am fetching numbers on students graduated for all years from 2004 from civil engineering bachelor in Computer Science at DTU. At DTU getting a bachelor takes 3 years. This means that what one would hope, was that the number of students accepted in year `x` should be the same number of students which graduated in year `x+3` (ideally, but of course there will be drop-outs and change in field of study). There are no graduates from 2004-2006 as the field of study was made available from 2004, which means that the first students in software technology graduated in 2007. </p>\n",
    "\n",
    "## Software Technology\n",
    "<p style=\"font-size: 20px; line-height: 26pt\">As fetching the URL content directly from the website works poorly (I would have hoped for an API/Open data solution, but nope), I have added the numbers on **students accepted** from the webpage manually from this query:</p>\n",
    "\n",
    "* [`http://dtu-studiedatavarehus.ait.dtu.dk/vis_noegletal_optag.aspx?aar=0&sem=e&udd=1&ret=12&kon=Alle&alder=0&nt=0&vd=0&land=0&region=0&kv=0&eks=0`](http://dtu-studiedatavarehus.ait.dtu.dk/vis_noegletal_optag.aspx?aar=0&sem=e&udd=1&ret=12&kon=Alle&alder=0&nt=0&vd=0&land=0&region=0&kv=0&eks=0)\n",
    "\n",
    "<p style=\"font-size: 20px; line-height: 26pt\">For the **graduated students**, I used this query:</p>\n",
    "\n",
    "* [`http://dtu-studiedatavarehus.ait.dtu.dk/vis_noegletal_faerdige.aspx?aar=0&ret=67&udd=1&kon=Alle&alder=0&nt=0&vd=0&land=0&region=&kv=0&eks=&stud=0`](http://dtu-studiedatavarehus.ait.dtu.dk/vis_noegletal_faerdige.aspx?aar=0&ret=67&udd=1&kon=Alle&alder=0&nt=0&vd=0&land=0&region=&kv=0&eks=&stud=0)\n",
    "\n",
    "## Mathematics and Technology\n",
    "\n",
    "*<span style=\"color:red\">After the 18th of December numbers on students in field \"Mathematics and Technology will also be added, as these students are found also to be computer science students</span>*\n",
    "\n",
    "<p style=\"font-size: 20px; line-height: 26pt\">Students **accepted** for all years Mathematics and Technology, DTU\n",
    "\n",
    "<p style=\"font-size: 20px; line-height: 26pt\">Sadly for MT, data are only available from 2013 and forward. </p>\n",
    "\n",
    "* [`http://dtu-studiedatavarehus.ait.dtu.dk/vis_noegletal_optag.aspx?aar=0&sem=0&udd=1&ret=30&kon=Alle&alder=0&nt=0&vd=0&land=0&region=0&kv=0&eks=0`](http://dtu-studiedatavarehus.ait.dtu.dk/vis_noegletal_optag.aspx?aar=0&sem=0&udd=1&ret=30&kon=Alle&alder=0&nt=0&vd=0&land=0&region=0&kv=0&eks=0)\n",
    "\n",
    "<p style=\"font-size: 20px; line-height: 26pt\">**Students graduated**:</p>\n",
    "\n",
    "* [`http://dtu-studiedatavarehus.ait.dtu.dk/vis_noegletal_faerdige.aspx?aar=0&ret=18&udd=1&kon=Alle&alder=0&nt=0&vd=0&land=0&region=&kv=0&eks=&stud=0`](http://dtu-studiedatavarehus.ait.dtu.dk/vis_noegletal_faerdige.aspx?aar=0&ret=18&udd=1&kon=Alle&alder=0&nt=0&vd=0&land=0&region=&kv=0&eks=&stud=0)\n",
    "\n",
    "\n",
    "<p style=\"font-size: 20px; line-height: 26pt\">In all URLs above I am fetching numbers on students graduated for all years from 2004 from civil engineering bachelor in Computer Science at DTU.</p>\n"
   ]
  },
  {
   "cell_type": "markdown",
   "metadata": {},
   "source": [
    "----\n",
    "## From number to graphs with code \n",
    "<p style=\"font-size: 20px; line-height: 26pt\">I will comment some more on the numbers further down.</p>\n",
    "\n",
    "### Software Technology\n",
    "#### Accepted"
   ]
  },
  {
   "cell_type": "code",
   "execution_count": 46,
   "metadata": {},
   "outputs": [],
   "source": [
    "# Percentage male/female accepted on undergrad Software technology at DTU\n",
    "\n",
    "YEAR         = list(range(2004,2019))\n",
    "\n",
    "# Percentage accepted female/male\n",
    "DTU_CS_P_F   = np.asarray([5, 2, 2, 0,  10,5, 9, 7, 7, 8, 12,7, 10,19,17])\n",
    "DTU_CS_P_M   = np.asarray([95,98,98,100,90,95,91,93,93,92,88,93,90,81,83])\n",
    "\n",
    "# All accepted, total\n",
    "CS_YEARLY_ACCEPTED = np.asarray([56,66,62,63,62,55,54,56,55,61,68,68,63,80,88])\n",
    "\n",
    "# Number of people accepted (calculated from the above)\n",
    "no_females = np.round(np.multiply(DTU_CS_P_F,np.asarray(CS_YEARLY_ACCEPTED/100.0)))\n",
    "no_males   = np.round(np.multiply(DTU_CS_P_M,np.asarray(CS_YEARLY_ACCEPTED/100.0)))"
   ]
  },
  {
   "cell_type": "markdown",
   "metadata": {},
   "source": [
    "#### Graduated"
   ]
  },
  {
   "cell_type": "code",
   "execution_count": 47,
   "metadata": {
    "collapsed": true
   },
   "outputs": [],
   "source": [
    "GRAD_CS_F = np.asarray([0,0,0,0,5, 0, 0, 2, 1, 0, 2, 0, 2, 8, 6])\n",
    "GRAD_CS_M = np.asarray([0,0,0,9,40,39,42,33,39,41,42,47,48,55,50])"
   ]
  },
  {
   "cell_type": "markdown",
   "metadata": {},
   "source": [
    "### Mathematics and Technology\n",
    "\n",
    "#### Accepted"
   ]
  },
  {
   "cell_type": "code",
   "execution_count": 48,
   "metadata": {
    "collapsed": true
   },
   "outputs": [],
   "source": [
    "DTU_MT_P_F = np.asarray([32,24,31,30,24,23,39,21,34,36,38,25,37,25,30])\n",
    "DTU_MT_P_M = np.asarray([68,76,69,70,76,77,61,79,66,64,62,75,63,75,70])\n",
    "\n",
    "# All accepted, total\n",
    "MT_YEARLY_ACCEPTED = np.asarray([34,41,49,53,62,61,64,61,62,61,65,69,67,72,86])\n",
    "\n",
    "\n",
    "# Number of people\n",
    "no_females_mt = np.round(np.multiply(DTU_MT_P_F, np.asarray(MT_YEARLY_ACCEPTED / 100.0)))\n",
    "no_males_mt   = np.round(np.multiply(DTU_MT_P_M, np.asarray(MT_YEARLY_ACCEPTED / 100.0)))"
   ]
  },
  {
   "cell_type": "markdown",
   "metadata": {},
   "source": [
    "#### Graduated"
   ]
  },
  {
   "cell_type": "code",
   "execution_count": 49,
   "metadata": {
    "collapsed": true
   },
   "outputs": [],
   "source": [
    "GRAD_MT_F = np.asarray([0,0,0,0,0,0,0,0,0,18,10,20,13,15,9])\n",
    "GRAD_MT_M = np.asarray([0,0,0,0,0,0,0,0,0,31,27,31,29,35,29])"
   ]
  },
  {
   "cell_type": "markdown",
   "metadata": {},
   "source": [
    "## Functions"
   ]
  },
  {
   "cell_type": "markdown",
   "metadata": {},
   "source": [
    "<p style=\"font-size: 20px; line-height: 26pt\">In order to make the plotting look a little more sleek (and minimize redundancy of code), I wrapped the plotting up in a function for bar charts with and without grouping. </p>"
   ]
  },
  {
   "cell_type": "code",
   "execution_count": 50,
   "metadata": {
    "collapsed": true
   },
   "outputs": [],
   "source": [
    "# Plotting bar chart with two groups\n",
    "def plot2bar(bar1, name1, bar2, name2, x_in, title, xaxis, yaxis, filename_, rgba='rgba(255,128,0,0.9)'):\n",
    "    trace1 = go.Bar(\n",
    "        x    = x_in,\n",
    "        y    = bar1,\n",
    "        name = name1,\n",
    "    )\n",
    "\n",
    "    trace2 = go.Bar(\n",
    "        x    = x_in,\n",
    "        y    = bar2,\n",
    "        name = name2,\n",
    "        marker = dict(\n",
    "            color = rgba,\n",
    "        )\n",
    "    )\n",
    " \n",
    "    data = [trace1,trace2]\n",
    "    layout= go.Layout(\n",
    "        barmode='group',\n",
    "        title=title,\n",
    "        xaxis=dict(\n",
    "            title=xaxis\n",
    "        ),\n",
    "        yaxis=dict(\n",
    "            title=yaxis\n",
    "        )\n",
    "    )\n",
    "\n",
    "    fig = go.Figure(data=data, layout=layout)\n",
    "    py.iplot(fig, sharing='public', filename=filename_)"
   ]
  },
  {
   "cell_type": "code",
   "execution_count": 51,
   "metadata": {
    "collapsed": true
   },
   "outputs": [],
   "source": [
    "# Plotting bar chart - no grouping\n",
    "def plotbar(bar, name1, x_in, title, xaxis, yaxis, filename_):\n",
    "    trace = go.Bar(\n",
    "        x    = x_in,\n",
    "        y    = bar,\n",
    "        name = name1,\n",
    "    )\n",
    " \n",
    "    data = [trace]\n",
    "    layout= go.Layout(\n",
    "        title = title,\n",
    "        xaxis = dict(\n",
    "        title = xaxis\n",
    "        ),\n",
    "        yaxis = dict(\n",
    "            title = yaxis\n",
    "        )\n",
    "    )\n",
    "\n",
    "    fig = go.Figure(data=data, layout=layout)\n",
    "    py.iplot(fig, sharing='public', filename=filename_)"
   ]
  },
  {
   "cell_type": "markdown",
   "metadata": {},
   "source": [
    "## Plotting ##\n",
    "<p style=\"font-size: 20px; line-height: 26pt\">This is where the fun starts!<p>\n",
    "\n",
    "### Acceptance"
   ]
  },
  {
   "cell_type": "code",
   "execution_count": 52,
   "metadata": {},
   "outputs": [],
   "source": [
    "plot2bar(DTU_CS_P_F, \"Female\", \n",
    "         DTU_CS_P_M, \"Male\", \n",
    "         YEAR, \n",
    "         \"Accepted software technology, percentage\", \n",
    "         \"Year\", \"Percentage [%]\",\n",
    "        'accepted_percentage.png')"
   ]
  },
  {
   "cell_type": "markdown",
   "metadata": {},
   "source": [
    "<div>\n",
    "    <a href=\"https://plot.ly/~frksteenhoff2/139/\" target=\"_blank\" title=\"accepted_percentage.png\" style=\"display: block; text-align: center;\"><img src=\"https://plot.ly/~frksteenhoff2/139.png\" alt=\"accepted_percentage.png\" style=\"max-width: 100%;width: 600px;\"  width=\"600\" onerror=\"this.onerror=null;this.src='https://plot.ly/404.png';\" /></a>\n",
    "    <script data-plotly=\"frksteenhoff2:139\" src=\"https://plot.ly/embed.js\" async></script>\n",
    "</div>\n"
   ]
  },
  {
   "cell_type": "code",
   "execution_count": 66,
   "metadata": {},
   "outputs": [],
   "source": [
    "plot2bar(no_females, \"Female\", \n",
    "         no_males, \"Male\", \n",
    "         YEAR, \n",
    "         \"Accepted software technology, numbers\", \n",
    "         \"Year\", \"Frequency\",\n",
    "        'accepted_numbers_.png')"
   ]
  },
  {
   "cell_type": "markdown",
   "metadata": {},
   "source": [
    "<div>\n",
    "    <a href=\"https://plot.ly/~frksteenhoff2/191/\" target=\"_blank\" title=\"accepted_numbers_.png\" style=\"display: block; text-align: center;\"><img src=\"https://plot.ly/~frksteenhoff2/191.png\" alt=\"accepted_numbers_.png\" style=\"max-width: 100%;width: 600px;\"  width=\"600\" onerror=\"this.onerror=null;this.src='https://plot.ly/404.png';\" /></a>\n",
    "    <script data-plotly=\"frksteenhoff2:191\" src=\"https://plot.ly/embed.js\" async></script>\n",
    "</div>\n"
   ]
  },
  {
   "cell_type": "code",
   "execution_count": 67,
   "metadata": {},
   "outputs": [],
   "source": [
    "plot2bar(DTU_MT_P_F, \"Female\", \n",
    "         DTU_MT_P_M, \"Male\", \n",
    "         YEAR, \n",
    "         \"Accepted mathematics and technology, percentage\", \n",
    "         \"Year\", \"Percentage [%]\",\n",
    "        'accepted_percentage_mt_.png')"
   ]
  },
  {
   "cell_type": "markdown",
   "metadata": {},
   "source": [
    "<div>\n",
    "    <a href=\"https://plot.ly/~frksteenhoff2/193/\" target=\"_blank\" title=\"accepted_percentage_mt_.png\" style=\"display: block; text-align: center;\"><img src=\"https://plot.ly/~frksteenhoff2/193.png\" alt=\"accepted_percentage_mt_.png\" style=\"max-width: 100%;width: 600px;\"  width=\"600\" onerror=\"this.onerror=null;this.src='https://plot.ly/404.png';\" /></a>\n",
    "    <script data-plotly=\"frksteenhoff2:193\" src=\"https://plot.ly/embed.js\" async></script>\n",
    "</div>\n"
   ]
  },
  {
   "cell_type": "markdown",
   "metadata": {},
   "source": [
    "<p style=\"font-size: 20px; line-height: 26pt\">While it is clear to see that the female/male ratio is still off, there are quite a lot more girls accepted to mathematics than software technology.<p>"
   ]
  },
  {
   "cell_type": "code",
   "execution_count": 69,
   "metadata": {
    "collapsed": true
   },
   "outputs": [],
   "source": [
    "plot2bar(no_females_mt, \"Female\", \n",
    "         no_males_mt, \"Male\", \n",
    "         YEAR, \n",
    "         \"Accepted mathematics and technology, numbers\", \n",
    "         \"Year\", \"Frequency\",\n",
    "        'accepted_numbers_mt_.png')"
   ]
  },
  {
   "cell_type": "markdown",
   "metadata": {},
   "source": [
    "<div>\n",
    "    <a href=\"https://plot.ly/~frksteenhoff2/195/\" target=\"_blank\" title=\"accepted_numbers_mt_.png\" style=\"display: block; text-align: center;\"><img src=\"https://plot.ly/~frksteenhoff2/195.png\" alt=\"accepted_numbers_mt_.png\" style=\"max-width: 100%;width: 600px;\"  width=\"600\" onerror=\"this.onerror=null;this.src='https://plot.ly/404.png';\" /></a>\n",
    "    <script data-plotly=\"frksteenhoff2:195\" src=\"https://plot.ly/embed.js\" async></script>\n",
    "</div>\n"
   ]
  },
  {
   "cell_type": "markdown",
   "metadata": {},
   "source": [
    "----\n",
    "#### Female students only"
   ]
  },
  {
   "cell_type": "code",
   "execution_count": 56,
   "metadata": {
    "collapsed": true
   },
   "outputs": [],
   "source": [
    "plot2bar(no_females, \"Female, software\",\n",
    "         no_females_mt, \"Female, mathematics\",\n",
    "        YEAR, \"Females accepted mathemathics/software\", \n",
    "        \"Year\", \"Frequency\", \n",
    "        'all_female_combined.png',\n",
    "        rgba='rgba(0, 204, 0, .9)',\n",
    "        )"
   ]
  },
  {
   "cell_type": "markdown",
   "metadata": {},
   "source": [
    "<div>\n",
    "    <a href=\"https://plot.ly/~frksteenhoff2/161/\" target=\"_blank\" title=\"all_female_combined.png\" style=\"display: block; text-align: center;\"><img src=\"https://plot.ly/~frksteenhoff2/161.png\" alt=\"all_female_combined.png\" style=\"max-width: 100%;width: 600px;\"  width=\"600\" onerror=\"this.onerror=null;this.src='https://plot.ly/404.png';\" /></a>\n",
    "    <script data-plotly=\"frksteenhoff2:161\" src=\"https://plot.ly/embed.js\" async></script>\n",
    "</div>\n"
   ]
  },
  {
   "cell_type": "markdown",
   "metadata": {},
   "source": [
    "<p style=\"font-size: 20px; line-height: 26pt\">\n",
    "Without a doubt, female students within computer science choose math!<p>\n",
    "<p style=\"font-size: 20px; line-height: 26pt\">\n",
    "There has definitely been an increase in women applying for the CS undergraduate at DTU, but only significantly in 2017 where almost 20% of the accepted software students are women.\n",
    "<p>"
   ]
  },
  {
   "cell_type": "markdown",
   "metadata": {},
   "source": [
    "## Graduated"
   ]
  },
  {
   "cell_type": "code",
   "execution_count": 57,
   "metadata": {
    "collapsed": true
   },
   "outputs": [],
   "source": [
    "plot2bar(GRAD_CS_F, \"Female\", \n",
    "         GRAD_CS_M, \"Male\", \n",
    "         YEAR, \"Graduated, Software Technology\", \n",
    "         \"Year\", \"Frequency\", \n",
    "         'graduated_numbers.png',\n",
    "         rgba='rgba(160,32,240,0.9)')"
   ]
  },
  {
   "cell_type": "markdown",
   "metadata": {},
   "source": [
    "<div>\n",
    "    <a href=\"https://plot.ly/~frksteenhoff2/155/\" target=\"_blank\" title=\"graduated_numbers.png\" style=\"display: block; text-align: center;\"><img src=\"https://plot.ly/~frksteenhoff2/155.png\" alt=\"graduated_numbers.png\" style=\"max-width: 100%;width: 600px;\"  width=\"600\" onerror=\"this.onerror=null;this.src='https://plot.ly/404.png';\" /></a>\n",
    "    <script data-plotly=\"frksteenhoff2:155\" src=\"https://plot.ly/embed.js\" async></script>\n",
    "</div>\n"
   ]
  },
  {
   "cell_type": "markdown",
   "metadata": {},
   "source": [
    "## LOOK AT THIS!\n",
    "\n",
    "|   | 2007 | 2008 | 2009 | 2010 | 2011 | 2012 | 2013 | 2014 | 2015 | 2016 | 2017 | 2018 |\n",
    "|---|---|---|---|---|---|---|---|---|---|---|---|\n",
    "|  # women graduated with a CS degree | 0 | 5 | 0 | 0 | 2 | 1 | 0 |2 | 0 | 2 | 8 | 6 |\n",
    "\n",
    "> <p style=\"font-size: 30px; line-height: 36pt\">Within the last 2 years more women have graduated with a degree in CS from DTU than the sum of all women graduating the previous 10 years! <span style=\"color: red\">\n",
    "*Women in software is a growing trend!*</span><p>"
   ]
  },
  {
   "cell_type": "code",
   "execution_count": 58,
   "metadata": {
    "collapsed": true
   },
   "outputs": [],
   "source": [
    "plot2bar(GRAD_MT_F, \"Female\", \n",
    "         GRAD_MT_M, \"Male\", \n",
    "         YEAR, \"Graduated, Mathematics and Technology\", \n",
    "         \"Year\", \"Frequency\", \n",
    "         'graduated_numbers_mt.png',\n",
    "          rgba='rgba(160,32,140,0.9)')"
   ]
  },
  {
   "cell_type": "markdown",
   "metadata": {},
   "source": [
    "<div>\n",
    "    <a href=\"https://plot.ly/~frksteenhoff2/163/\" target=\"_blank\" title=\"graduated_numbers_mt.png\" style=\"display: block; text-align: center;\"><img src=\"https://plot.ly/~frksteenhoff2/163.png\" alt=\"graduated_numbers_mt.png\" style=\"max-width: 100%;width: 600px;\"  width=\"600\" onerror=\"this.onerror=null;this.src='https://plot.ly/404.png';\" /></a>\n",
    "    <script data-plotly=\"frksteenhoff2:163\" src=\"https://plot.ly/embed.js\" async></script>\n",
    "</div>\n"
   ]
  },
  {
   "cell_type": "markdown",
   "metadata": {},
   "source": [
    "<p style=\"font-size: 20px; line-height: 26pt\">Even though the maths field of study has only existed for 5 years, compared to software technology's 13, almost 4 times the number of women have graduated from mathematics within those year compared to software all time. </p>"
   ]
  },
  {
   "cell_type": "markdown",
   "metadata": {},
   "source": [
    "# Is this a common trend?\n",
    "### Number of women accepted on other universities\n",
    "\n",
    "### Women accepted at the University of Copenhagen\n",
    "![acceptance_ku_2018.png](acceptance_ku_2018.png) \n",
    "<p style=\"font-size: 20px; line-height: 26pt\">Within the last couple of years there has been an increase in the number of women choosing a CS degree.</p>\n",
    "\n",
    "source: https://di.ku.dk/Nyheder/2018/samfundsrelevante-temaer/IT-Branchen_Flere_kvinder_p__datalogi_2018.pdf\n",
    "\n",
    "\n",
    "### Women accepted at The IT University of Copenhagen\n",
    "![acceptance_itu_2019.png](acceptance_itu_2019.png)\n",
    "<p style=\"font-size: 20px; line-height: 26pt\">The number of women at ITU is slowly increasing but lies steadily around 35%.</p>\n",
    "\n",
    "source: https://www.itu.dk/om-itu/organisation-tal-og-fakta/tal-og-fakta/noegletal/noegletal-uddannelse"
   ]
  },
  {
   "cell_type": "markdown",
   "metadata": {},
   "source": [
    "# Summary\n",
    "\n",
    "<p style=\"font-size: 20px; line-height: 26pt\">Overall there is quite a large number of drop-outs among the students and the number of females who actually graduate is *very* low. Taking into account that quite a few students use an extra semester on completing their bachelor, fully predicting the exact graduation date cannot be done from this data. Even though the number of graduating females are low, there is in fact an increase in females graduating, let's hope this tendency continues.</p>\n",
    "\n",
    "<p style=\"font-size: 20px; line-height: 26pt\">**From 2004-2018, only 26 women have actually graduated with a degree in Computer Science, which means that on average 1.85 women graduate each year.** However from the data it can be seen that the number of women applying for an education within CS is growing.</p>\n",
    "\n",
    "<p style=\"font-size: 20px; line-height: 26pt\">Of all the women accepted up until 2016, only half of them have graduated.</p>"
   ]
  },
  {
   "cell_type": "code",
   "execution_count": null,
   "metadata": {
    "collapsed": true
   },
   "outputs": [],
   "source": []
  }
 ],
 "metadata": {
  "anaconda-cloud": {},
  "kernelspec": {
   "display_name": "Python 3",
   "language": "python",
   "name": "python3"
  },
  "language_info": {
   "codemirror_mode": {
    "name": "ipython",
    "version": 3
   },
   "file_extension": ".py",
   "mimetype": "text/x-python",
   "name": "python",
   "nbconvert_exporter": "python",
   "pygments_lexer": "ipython3",
   "version": "3.6.1"
  }
 },
 "nbformat": 4,
 "nbformat_minor": 2
}
